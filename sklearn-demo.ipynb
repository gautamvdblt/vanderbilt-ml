{
  "cells": [
    {
      "cell_type": "markdown",
      "metadata": {
        "id": "view-in-github",
        "colab_type": "text"
      },
      "source": [
        "<a href=\"https://colab.research.google.com/github/gautamvdblt/vanderbilt-ml/blob/main/sklearn-demo.ipynb\" target=\"_parent\"><img src=\"https://colab.research.google.com/assets/colab-badge.svg\" alt=\"Open In Colab\"/></a>"
      ]
    },
    {
      "cell_type": "markdown",
      "id": "82ba5cb0-b81e-43ea-acfa-e661fff2572c",
      "metadata": {
        "id": "82ba5cb0-b81e-43ea-acfa-e661fff2572c"
      },
      "source": [
        "# **Machine Learning Using scikit-learn**"
      ]
    },
    {
      "cell_type": "markdown",
      "id": "3a251b12-73f7-4007-8f91-a866b8539ded",
      "metadata": {
        "id": "3a251b12-73f7-4007-8f91-a866b8539ded"
      },
      "source": [
        "This notebook demonstrates the usage of pipelines to promote best practices for Machine Learning in Python. As a reminder, below are the following best practices we should follow when performing Machine Learning in Python:\n",
        "\n",
        "1. Perform all pre-processing steps within cross-validation\n",
        "2. Measure model performance (and model selection) using cross-validation\n",
        "3. Follow literate programming practices to make code readable and make collaboration easier\n",
        "\n",
        "## Problem Formulation\n",
        "\n",
        "In this example, we will use Allison Horst's Palmer Penguins dataset, available here: https://github.com/allisonhorst/palmerpenguins.\n",
        "\n",
        "The dataset contains data on 344 penguins. There are three different species of penguins in the dataset, collected from three separate islands in the Palmer Archipelago, Antarctica. \n",
        "\n"
      ]
    },
    {
      "cell_type": "markdown",
      "source": [
        "## Load Libraries\n",
        "\n",
        "First, we'll load our standard libraries for loading data, basic exploratory data analsysi (EDA), and machine learning. "
      ],
      "metadata": {
        "id": "iNUF_3ncKcbw"
      },
      "id": "iNUF_3ncKcbw"
    },
    {
      "cell_type": "code",
      "execution_count": 25,
      "id": "5d51761d-af0e-411f-9375-54bcd91a62db",
      "metadata": {
        "id": "5d51761d-af0e-411f-9375-54bcd91a62db"
      },
      "outputs": [],
      "source": [
        "#tables and visualizations\n",
        "import pandas as pd\n",
        "import numpy as np\n",
        "import seaborn as sns\n",
        "import matplotlib.pyplot as plt\n",
        "\n",
        "#machine learning\n",
        "from sklearn.model_selection import train_test_split, GridSearchCV\n",
        "from sklearn.linear_model import LogisticRegression\n",
        "from sklearn.ensemble import RandomForestClassifier\n",
        "from sklearn.pipeline import Pipeline \n",
        "from sklearn.compose import ColumnTransformer, make_column_selector\n",
        "from sklearn.impute import SimpleImputer\n",
        "from sklearn.preprocessing import OneHotEncoder, LabelBinarizer, StandardScaler\n",
        "from sklearn import config_context\n",
        "from sklearn.metrics import classification_report, confusion_matrix, ConfusionMatrixDisplay\n",
        "\n",
        "#machine learning\n"
      ]
    },
    {
      "cell_type": "markdown",
      "id": "87e69be8-1415-482e-adc2-4d71a697535b",
      "metadata": {
        "id": "87e69be8-1415-482e-adc2-4d71a697535b"
      },
      "source": [
        "## Load Data\n",
        "\n",
        "Here we first load the data into python using pandas and read it in as a pandas dataframe which is the format which we will use throughout the example. "
      ]
    },
    {
      "cell_type": "code",
      "execution_count": 26,
      "id": "6b347d70-2e7b-4cdc-a290-ace614045711",
      "metadata": {
        "id": "6b347d70-2e7b-4cdc-a290-ace614045711",
        "colab": {
          "base_uri": "https://localhost:8080/",
          "height": 467
        },
        "outputId": "9805f782-92f3-4e15-cb89-8d9c2b8d128e"
      },
      "outputs": [
        {
          "output_type": "display_data",
          "data": {
            "text/plain": [
              "  species     island  bill_length_mm  bill_depth_mm  flipper_length_mm  \\\n",
              "0  Adelie  Torgersen            39.1           18.7              181.0   \n",
              "1  Adelie  Torgersen            39.5           17.4              186.0   \n",
              "2  Adelie  Torgersen            40.3           18.0              195.0   \n",
              "3  Adelie  Torgersen             NaN            NaN                NaN   \n",
              "4  Adelie  Torgersen            36.7           19.3              193.0   \n",
              "\n",
              "   body_mass_g     sex  year  \n",
              "0       3750.0    male  2007  \n",
              "1       3800.0  female  2007  \n",
              "2       3250.0  female  2007  \n",
              "3          NaN     NaN  2007  \n",
              "4       3450.0  female  2007  "
            ],
            "text/html": [
              "\n",
              "  <div id=\"df-ded34bee-00f2-4932-b9c1-584628eee556\">\n",
              "    <div class=\"colab-df-container\">\n",
              "      <div>\n",
              "<style scoped>\n",
              "    .dataframe tbody tr th:only-of-type {\n",
              "        vertical-align: middle;\n",
              "    }\n",
              "\n",
              "    .dataframe tbody tr th {\n",
              "        vertical-align: top;\n",
              "    }\n",
              "\n",
              "    .dataframe thead th {\n",
              "        text-align: right;\n",
              "    }\n",
              "</style>\n",
              "<table border=\"1\" class=\"dataframe\">\n",
              "  <thead>\n",
              "    <tr style=\"text-align: right;\">\n",
              "      <th></th>\n",
              "      <th>species</th>\n",
              "      <th>island</th>\n",
              "      <th>bill_length_mm</th>\n",
              "      <th>bill_depth_mm</th>\n",
              "      <th>flipper_length_mm</th>\n",
              "      <th>body_mass_g</th>\n",
              "      <th>sex</th>\n",
              "      <th>year</th>\n",
              "    </tr>\n",
              "  </thead>\n",
              "  <tbody>\n",
              "    <tr>\n",
              "      <th>0</th>\n",
              "      <td>Adelie</td>\n",
              "      <td>Torgersen</td>\n",
              "      <td>39.1</td>\n",
              "      <td>18.7</td>\n",
              "      <td>181.0</td>\n",
              "      <td>3750.0</td>\n",
              "      <td>male</td>\n",
              "      <td>2007</td>\n",
              "    </tr>\n",
              "    <tr>\n",
              "      <th>1</th>\n",
              "      <td>Adelie</td>\n",
              "      <td>Torgersen</td>\n",
              "      <td>39.5</td>\n",
              "      <td>17.4</td>\n",
              "      <td>186.0</td>\n",
              "      <td>3800.0</td>\n",
              "      <td>female</td>\n",
              "      <td>2007</td>\n",
              "    </tr>\n",
              "    <tr>\n",
              "      <th>2</th>\n",
              "      <td>Adelie</td>\n",
              "      <td>Torgersen</td>\n",
              "      <td>40.3</td>\n",
              "      <td>18.0</td>\n",
              "      <td>195.0</td>\n",
              "      <td>3250.0</td>\n",
              "      <td>female</td>\n",
              "      <td>2007</td>\n",
              "    </tr>\n",
              "    <tr>\n",
              "      <th>3</th>\n",
              "      <td>Adelie</td>\n",
              "      <td>Torgersen</td>\n",
              "      <td>NaN</td>\n",
              "      <td>NaN</td>\n",
              "      <td>NaN</td>\n",
              "      <td>NaN</td>\n",
              "      <td>NaN</td>\n",
              "      <td>2007</td>\n",
              "    </tr>\n",
              "    <tr>\n",
              "      <th>4</th>\n",
              "      <td>Adelie</td>\n",
              "      <td>Torgersen</td>\n",
              "      <td>36.7</td>\n",
              "      <td>19.3</td>\n",
              "      <td>193.0</td>\n",
              "      <td>3450.0</td>\n",
              "      <td>female</td>\n",
              "      <td>2007</td>\n",
              "    </tr>\n",
              "  </tbody>\n",
              "</table>\n",
              "</div>\n",
              "      <button class=\"colab-df-convert\" onclick=\"convertToInteractive('df-ded34bee-00f2-4932-b9c1-584628eee556')\"\n",
              "              title=\"Convert this dataframe to an interactive table.\"\n",
              "              style=\"display:none;\">\n",
              "        \n",
              "  <svg xmlns=\"http://www.w3.org/2000/svg\" height=\"24px\"viewBox=\"0 0 24 24\"\n",
              "       width=\"24px\">\n",
              "    <path d=\"M0 0h24v24H0V0z\" fill=\"none\"/>\n",
              "    <path d=\"M18.56 5.44l.94 2.06.94-2.06 2.06-.94-2.06-.94-.94-2.06-.94 2.06-2.06.94zm-11 1L8.5 8.5l.94-2.06 2.06-.94-2.06-.94L8.5 2.5l-.94 2.06-2.06.94zm10 10l.94 2.06.94-2.06 2.06-.94-2.06-.94-.94-2.06-.94 2.06-2.06.94z\"/><path d=\"M17.41 7.96l-1.37-1.37c-.4-.4-.92-.59-1.43-.59-.52 0-1.04.2-1.43.59L10.3 9.45l-7.72 7.72c-.78.78-.78 2.05 0 2.83L4 21.41c.39.39.9.59 1.41.59.51 0 1.02-.2 1.41-.59l7.78-7.78 2.81-2.81c.8-.78.8-2.07 0-2.86zM5.41 20L4 18.59l7.72-7.72 1.47 1.35L5.41 20z\"/>\n",
              "  </svg>\n",
              "      </button>\n",
              "      \n",
              "  <style>\n",
              "    .colab-df-container {\n",
              "      display:flex;\n",
              "      flex-wrap:wrap;\n",
              "      gap: 12px;\n",
              "    }\n",
              "\n",
              "    .colab-df-convert {\n",
              "      background-color: #E8F0FE;\n",
              "      border: none;\n",
              "      border-radius: 50%;\n",
              "      cursor: pointer;\n",
              "      display: none;\n",
              "      fill: #1967D2;\n",
              "      height: 32px;\n",
              "      padding: 0 0 0 0;\n",
              "      width: 32px;\n",
              "    }\n",
              "\n",
              "    .colab-df-convert:hover {\n",
              "      background-color: #E2EBFA;\n",
              "      box-shadow: 0px 1px 2px rgba(60, 64, 67, 0.3), 0px 1px 3px 1px rgba(60, 64, 67, 0.15);\n",
              "      fill: #174EA6;\n",
              "    }\n",
              "\n",
              "    [theme=dark] .colab-df-convert {\n",
              "      background-color: #3B4455;\n",
              "      fill: #D2E3FC;\n",
              "    }\n",
              "\n",
              "    [theme=dark] .colab-df-convert:hover {\n",
              "      background-color: #434B5C;\n",
              "      box-shadow: 0px 1px 3px 1px rgba(0, 0, 0, 0.15);\n",
              "      filter: drop-shadow(0px 1px 2px rgba(0, 0, 0, 0.3));\n",
              "      fill: #FFFFFF;\n",
              "    }\n",
              "  </style>\n",
              "\n",
              "      <script>\n",
              "        const buttonEl =\n",
              "          document.querySelector('#df-ded34bee-00f2-4932-b9c1-584628eee556 button.colab-df-convert');\n",
              "        buttonEl.style.display =\n",
              "          google.colab.kernel.accessAllowed ? 'block' : 'none';\n",
              "\n",
              "        async function convertToInteractive(key) {\n",
              "          const element = document.querySelector('#df-ded34bee-00f2-4932-b9c1-584628eee556');\n",
              "          const dataTable =\n",
              "            await google.colab.kernel.invokeFunction('convertToInteractive',\n",
              "                                                     [key], {});\n",
              "          if (!dataTable) return;\n",
              "\n",
              "          const docLinkHtml = 'Like what you see? Visit the ' +\n",
              "            '<a target=\"_blank\" href=https://colab.research.google.com/notebooks/data_table.ipynb>data table notebook</a>'\n",
              "            + ' to learn more about interactive tables.';\n",
              "          element.innerHTML = '';\n",
              "          dataTable['output_type'] = 'display_data';\n",
              "          await google.colab.output.renderOutput(dataTable, element);\n",
              "          const docLink = document.createElement('div');\n",
              "          docLink.innerHTML = docLinkHtml;\n",
              "          element.appendChild(docLink);\n",
              "        }\n",
              "      </script>\n",
              "    </div>\n",
              "  </div>\n",
              "  "
            ]
          },
          "metadata": {}
        },
        {
          "output_type": "stream",
          "name": "stdout",
          "text": [
            "<class 'pandas.core.frame.DataFrame'>\n",
            "RangeIndex: 344 entries, 0 to 343\n",
            "Data columns (total 8 columns):\n",
            " #   Column             Non-Null Count  Dtype  \n",
            "---  ------             --------------  -----  \n",
            " 0   species            344 non-null    object \n",
            " 1   island             344 non-null    object \n",
            " 2   bill_length_mm     342 non-null    float64\n",
            " 3   bill_depth_mm      342 non-null    float64\n",
            " 4   flipper_length_mm  342 non-null    float64\n",
            " 5   body_mass_g        342 non-null    float64\n",
            " 6   sex                333 non-null    object \n",
            " 7   year               344 non-null    int64  \n",
            "dtypes: float64(4), int64(1), object(3)\n",
            "memory usage: 21.6+ KB\n"
          ]
        }
      ],
      "source": [
        "penguins = pd.read_csv('https://raw.githubusercontent.com/allisonhorst/palmerpenguins/master/inst/extdata/penguins.csv')\n",
        "display(penguins.head())\n",
        "penguins.info()"
      ]
    },
    {
      "cell_type": "code",
      "source": [
        "penguins.isna().sum()"
      ],
      "metadata": {
        "id": "rD3dnoIdaiYd",
        "outputId": "da35e957-ff5d-4934-d15f-290a6248b6d7",
        "colab": {
          "base_uri": "https://localhost:8080/"
        }
      },
      "id": "rD3dnoIdaiYd",
      "execution_count": 27,
      "outputs": [
        {
          "output_type": "execute_result",
          "data": {
            "text/plain": [
              "species               0\n",
              "island                0\n",
              "bill_length_mm        2\n",
              "bill_depth_mm         2\n",
              "flipper_length_mm     2\n",
              "body_mass_g           2\n",
              "sex                  11\n",
              "year                  0\n",
              "dtype: int64"
            ]
          },
          "metadata": {},
          "execution_count": 27
        }
      ]
    },
    {
      "cell_type": "markdown",
      "id": "f3200837-3b0e-42f5-aac2-c2dc6dec3fd0",
      "metadata": {
        "id": "f3200837-3b0e-42f5-aac2-c2dc6dec3fd0"
      },
      "source": [
        "## Data cleaning and EDA\n",
        "\n",
        "We can now explore our data. We leave this exercise to the reader. For now, we can observe that there are a few NA values which will likely need imputation. We'll wait for this step so that we can put it within our training loop. For now, we'll just drop all of the sex NAs out of the dataframe."
      ]
    },
    {
      "cell_type": "markdown",
      "source": [
        "We'll take a quick look at the number of missing datapoints."
      ],
      "metadata": {
        "id": "sHClCZPo4hrs"
      },
      "id": "sHClCZPo4hrs"
    },
    {
      "cell_type": "code",
      "execution_count": 31,
      "id": "107620e0-89ee-4f53-ac2e-dd0d03b15b66",
      "metadata": {
        "id": "107620e0-89ee-4f53-ac2e-dd0d03b15b66",
        "colab": {
          "base_uri": "https://localhost:8080/"
        },
        "outputId": "d72a1f84-da3e-43c0-dc49-342d25b8b540"
      },
      "outputs": [
        {
          "output_type": "execute_result",
          "data": {
            "text/plain": [
              "(333, 8)"
            ]
          },
          "metadata": {},
          "execution_count": 31
        }
      ],
      "source": [
        "penguins = penguins.dropna(subset=['sex'])\n",
        "penguins.shape"
      ]
    },
    {
      "cell_type": "markdown",
      "source": [
        "We want to predict the sex of the penguin. If the sex of the penguin is missing, we have no choice but to remove the observation. "
      ],
      "metadata": {
        "id": "QCgwQWqkCUAR"
      },
      "id": "QCgwQWqkCUAR"
    },
    {
      "cell_type": "code",
      "execution_count": 32,
      "id": "ae42a8db-457d-4532-934b-b4be3e6ce33b",
      "metadata": {
        "id": "ae42a8db-457d-4532-934b-b4be3e6ce33b"
      },
      "outputs": [],
      "source": [
        "class_column = 'sex'\n",
        "random_seed = 2435\n",
        "\n",
        "X_train, X_test, y_train, y_test = train_test_split(penguins.drop(columns=class_column), penguins[class_column],\n",
        "                                                   test_size=0.25, random_state=random_seed, stratify=penguins[class_column])"
      ]
    },
    {
      "cell_type": "markdown",
      "source": [
        "## Test-Train Splitting\n",
        "Now, we'll set up sex as the classification column, set a random seed so we can reproduce our results, and set up our test-train split. "
      ],
      "metadata": {
        "id": "Q3Lvt3A9CrIa"
      },
      "id": "Q3Lvt3A9CrIa"
    },
    {
      "cell_type": "code",
      "execution_count": 33,
      "id": "02c5bb25-8c26-47b0-b53c-f352babdb717",
      "metadata": {
        "id": "02c5bb25-8c26-47b0-b53c-f352babdb717"
      },
      "outputs": [],
      "source": [
        "class_column = 'sex'\n",
        "random_seed = 2435\n",
        "\n",
        "X_train, X_test, y_train, y_test = train_test_split(penguins.drop(columns=class_column), penguins[class_column],\n",
        "                                                   test_size=0.25, random_state=random_seed, stratify=penguins[class_column])"
      ]
    },
    {
      "cell_type": "markdown",
      "id": "9774a06c-3c40-48c0-8834-2570785a918f",
      "metadata": {
        "id": "9774a06c-3c40-48c0-8834-2570785a918f"
      },
      "source": [
        "Quick sanity check to make sure that everything seems correct for the train and test splits, first with the predictors, X"
      ]
    },
    {
      "cell_type": "code",
      "execution_count": 34,
      "id": "2c32bbd1-5392-4281-a1a4-a38ed6dd6390",
      "metadata": {
        "id": "2c32bbd1-5392-4281-a1a4-a38ed6dd6390",
        "colab": {
          "base_uri": "https://localhost:8080/",
          "height": 482
        },
        "outputId": "8902263d-d82e-4851-e38d-91091c1d799b"
      },
      "outputs": [
        {
          "output_type": "stream",
          "name": "stdout",
          "text": [
            "On X train: \n",
            "X train dimensions:  (249, 7)\n"
          ]
        },
        {
          "output_type": "display_data",
          "data": {
            "text/plain": [
              "    species  island  bill_length_mm  bill_depth_mm  flipper_length_mm  \\\n",
              "101  Adelie  Biscoe            41.0           20.0              203.0   \n",
              "260  Gentoo  Biscoe            43.3           14.0              208.0   \n",
              "142  Adelie   Dream            32.1           15.5              188.0   \n",
              "155  Gentoo  Biscoe            50.0           15.2              218.0   \n",
              "136  Adelie   Dream            35.6           17.5              191.0   \n",
              "\n",
              "     body_mass_g  year  \n",
              "101       4725.0  2009  \n",
              "260       4575.0  2009  \n",
              "142       3050.0  2009  \n",
              "155       5700.0  2007  \n",
              "136       3175.0  2009  "
            ],
            "text/html": [
              "\n",
              "  <div id=\"df-c9bf5460-212b-4441-bc18-8bb2c3ad09f6\">\n",
              "    <div class=\"colab-df-container\">\n",
              "      <div>\n",
              "<style scoped>\n",
              "    .dataframe tbody tr th:only-of-type {\n",
              "        vertical-align: middle;\n",
              "    }\n",
              "\n",
              "    .dataframe tbody tr th {\n",
              "        vertical-align: top;\n",
              "    }\n",
              "\n",
              "    .dataframe thead th {\n",
              "        text-align: right;\n",
              "    }\n",
              "</style>\n",
              "<table border=\"1\" class=\"dataframe\">\n",
              "  <thead>\n",
              "    <tr style=\"text-align: right;\">\n",
              "      <th></th>\n",
              "      <th>species</th>\n",
              "      <th>island</th>\n",
              "      <th>bill_length_mm</th>\n",
              "      <th>bill_depth_mm</th>\n",
              "      <th>flipper_length_mm</th>\n",
              "      <th>body_mass_g</th>\n",
              "      <th>year</th>\n",
              "    </tr>\n",
              "  </thead>\n",
              "  <tbody>\n",
              "    <tr>\n",
              "      <th>101</th>\n",
              "      <td>Adelie</td>\n",
              "      <td>Biscoe</td>\n",
              "      <td>41.0</td>\n",
              "      <td>20.0</td>\n",
              "      <td>203.0</td>\n",
              "      <td>4725.0</td>\n",
              "      <td>2009</td>\n",
              "    </tr>\n",
              "    <tr>\n",
              "      <th>260</th>\n",
              "      <td>Gentoo</td>\n",
              "      <td>Biscoe</td>\n",
              "      <td>43.3</td>\n",
              "      <td>14.0</td>\n",
              "      <td>208.0</td>\n",
              "      <td>4575.0</td>\n",
              "      <td>2009</td>\n",
              "    </tr>\n",
              "    <tr>\n",
              "      <th>142</th>\n",
              "      <td>Adelie</td>\n",
              "      <td>Dream</td>\n",
              "      <td>32.1</td>\n",
              "      <td>15.5</td>\n",
              "      <td>188.0</td>\n",
              "      <td>3050.0</td>\n",
              "      <td>2009</td>\n",
              "    </tr>\n",
              "    <tr>\n",
              "      <th>155</th>\n",
              "      <td>Gentoo</td>\n",
              "      <td>Biscoe</td>\n",
              "      <td>50.0</td>\n",
              "      <td>15.2</td>\n",
              "      <td>218.0</td>\n",
              "      <td>5700.0</td>\n",
              "      <td>2007</td>\n",
              "    </tr>\n",
              "    <tr>\n",
              "      <th>136</th>\n",
              "      <td>Adelie</td>\n",
              "      <td>Dream</td>\n",
              "      <td>35.6</td>\n",
              "      <td>17.5</td>\n",
              "      <td>191.0</td>\n",
              "      <td>3175.0</td>\n",
              "      <td>2009</td>\n",
              "    </tr>\n",
              "  </tbody>\n",
              "</table>\n",
              "</div>\n",
              "      <button class=\"colab-df-convert\" onclick=\"convertToInteractive('df-c9bf5460-212b-4441-bc18-8bb2c3ad09f6')\"\n",
              "              title=\"Convert this dataframe to an interactive table.\"\n",
              "              style=\"display:none;\">\n",
              "        \n",
              "  <svg xmlns=\"http://www.w3.org/2000/svg\" height=\"24px\"viewBox=\"0 0 24 24\"\n",
              "       width=\"24px\">\n",
              "    <path d=\"M0 0h24v24H0V0z\" fill=\"none\"/>\n",
              "    <path d=\"M18.56 5.44l.94 2.06.94-2.06 2.06-.94-2.06-.94-.94-2.06-.94 2.06-2.06.94zm-11 1L8.5 8.5l.94-2.06 2.06-.94-2.06-.94L8.5 2.5l-.94 2.06-2.06.94zm10 10l.94 2.06.94-2.06 2.06-.94-2.06-.94-.94-2.06-.94 2.06-2.06.94z\"/><path d=\"M17.41 7.96l-1.37-1.37c-.4-.4-.92-.59-1.43-.59-.52 0-1.04.2-1.43.59L10.3 9.45l-7.72 7.72c-.78.78-.78 2.05 0 2.83L4 21.41c.39.39.9.59 1.41.59.51 0 1.02-.2 1.41-.59l7.78-7.78 2.81-2.81c.8-.78.8-2.07 0-2.86zM5.41 20L4 18.59l7.72-7.72 1.47 1.35L5.41 20z\"/>\n",
              "  </svg>\n",
              "      </button>\n",
              "      \n",
              "  <style>\n",
              "    .colab-df-container {\n",
              "      display:flex;\n",
              "      flex-wrap:wrap;\n",
              "      gap: 12px;\n",
              "    }\n",
              "\n",
              "    .colab-df-convert {\n",
              "      background-color: #E8F0FE;\n",
              "      border: none;\n",
              "      border-radius: 50%;\n",
              "      cursor: pointer;\n",
              "      display: none;\n",
              "      fill: #1967D2;\n",
              "      height: 32px;\n",
              "      padding: 0 0 0 0;\n",
              "      width: 32px;\n",
              "    }\n",
              "\n",
              "    .colab-df-convert:hover {\n",
              "      background-color: #E2EBFA;\n",
              "      box-shadow: 0px 1px 2px rgba(60, 64, 67, 0.3), 0px 1px 3px 1px rgba(60, 64, 67, 0.15);\n",
              "      fill: #174EA6;\n",
              "    }\n",
              "\n",
              "    [theme=dark] .colab-df-convert {\n",
              "      background-color: #3B4455;\n",
              "      fill: #D2E3FC;\n",
              "    }\n",
              "\n",
              "    [theme=dark] .colab-df-convert:hover {\n",
              "      background-color: #434B5C;\n",
              "      box-shadow: 0px 1px 3px 1px rgba(0, 0, 0, 0.15);\n",
              "      filter: drop-shadow(0px 1px 2px rgba(0, 0, 0, 0.3));\n",
              "      fill: #FFFFFF;\n",
              "    }\n",
              "  </style>\n",
              "\n",
              "      <script>\n",
              "        const buttonEl =\n",
              "          document.querySelector('#df-c9bf5460-212b-4441-bc18-8bb2c3ad09f6 button.colab-df-convert');\n",
              "        buttonEl.style.display =\n",
              "          google.colab.kernel.accessAllowed ? 'block' : 'none';\n",
              "\n",
              "        async function convertToInteractive(key) {\n",
              "          const element = document.querySelector('#df-c9bf5460-212b-4441-bc18-8bb2c3ad09f6');\n",
              "          const dataTable =\n",
              "            await google.colab.kernel.invokeFunction('convertToInteractive',\n",
              "                                                     [key], {});\n",
              "          if (!dataTable) return;\n",
              "\n",
              "          const docLinkHtml = 'Like what you see? Visit the ' +\n",
              "            '<a target=\"_blank\" href=https://colab.research.google.com/notebooks/data_table.ipynb>data table notebook</a>'\n",
              "            + ' to learn more about interactive tables.';\n",
              "          element.innerHTML = '';\n",
              "          dataTable['output_type'] = 'display_data';\n",
              "          await google.colab.output.renderOutput(dataTable, element);\n",
              "          const docLink = document.createElement('div');\n",
              "          docLink.innerHTML = docLinkHtml;\n",
              "          element.appendChild(docLink);\n",
              "        }\n",
              "      </script>\n",
              "    </div>\n",
              "  </div>\n",
              "  "
            ]
          },
          "metadata": {}
        },
        {
          "output_type": "stream",
          "name": "stdout",
          "text": [
            "\n",
            "On X test: \n",
            "X test dimensions:  (84, 7)\n"
          ]
        },
        {
          "output_type": "display_data",
          "data": {
            "text/plain": [
              "       species     island  bill_length_mm  bill_depth_mm  flipper_length_mm  \\\n",
              "308  Chinstrap      Dream            42.5           16.7              187.0   \n",
              "120     Adelie  Torgersen            36.2           17.2              187.0   \n",
              "206     Gentoo     Biscoe            46.5           14.4              217.0   \n",
              "106     Adelie     Biscoe            38.6           17.2              199.0   \n",
              "99      Adelie      Dream            43.2           18.5              192.0   \n",
              "\n",
              "     body_mass_g  year  \n",
              "308       3350.0  2008  \n",
              "120       3150.0  2009  \n",
              "206       4900.0  2008  \n",
              "106       3750.0  2009  \n",
              "99        4100.0  2008  "
            ],
            "text/html": [
              "\n",
              "  <div id=\"df-96ed67ae-bf57-4957-b473-5115d41bad31\">\n",
              "    <div class=\"colab-df-container\">\n",
              "      <div>\n",
              "<style scoped>\n",
              "    .dataframe tbody tr th:only-of-type {\n",
              "        vertical-align: middle;\n",
              "    }\n",
              "\n",
              "    .dataframe tbody tr th {\n",
              "        vertical-align: top;\n",
              "    }\n",
              "\n",
              "    .dataframe thead th {\n",
              "        text-align: right;\n",
              "    }\n",
              "</style>\n",
              "<table border=\"1\" class=\"dataframe\">\n",
              "  <thead>\n",
              "    <tr style=\"text-align: right;\">\n",
              "      <th></th>\n",
              "      <th>species</th>\n",
              "      <th>island</th>\n",
              "      <th>bill_length_mm</th>\n",
              "      <th>bill_depth_mm</th>\n",
              "      <th>flipper_length_mm</th>\n",
              "      <th>body_mass_g</th>\n",
              "      <th>year</th>\n",
              "    </tr>\n",
              "  </thead>\n",
              "  <tbody>\n",
              "    <tr>\n",
              "      <th>308</th>\n",
              "      <td>Chinstrap</td>\n",
              "      <td>Dream</td>\n",
              "      <td>42.5</td>\n",
              "      <td>16.7</td>\n",
              "      <td>187.0</td>\n",
              "      <td>3350.0</td>\n",
              "      <td>2008</td>\n",
              "    </tr>\n",
              "    <tr>\n",
              "      <th>120</th>\n",
              "      <td>Adelie</td>\n",
              "      <td>Torgersen</td>\n",
              "      <td>36.2</td>\n",
              "      <td>17.2</td>\n",
              "      <td>187.0</td>\n",
              "      <td>3150.0</td>\n",
              "      <td>2009</td>\n",
              "    </tr>\n",
              "    <tr>\n",
              "      <th>206</th>\n",
              "      <td>Gentoo</td>\n",
              "      <td>Biscoe</td>\n",
              "      <td>46.5</td>\n",
              "      <td>14.4</td>\n",
              "      <td>217.0</td>\n",
              "      <td>4900.0</td>\n",
              "      <td>2008</td>\n",
              "    </tr>\n",
              "    <tr>\n",
              "      <th>106</th>\n",
              "      <td>Adelie</td>\n",
              "      <td>Biscoe</td>\n",
              "      <td>38.6</td>\n",
              "      <td>17.2</td>\n",
              "      <td>199.0</td>\n",
              "      <td>3750.0</td>\n",
              "      <td>2009</td>\n",
              "    </tr>\n",
              "    <tr>\n",
              "      <th>99</th>\n",
              "      <td>Adelie</td>\n",
              "      <td>Dream</td>\n",
              "      <td>43.2</td>\n",
              "      <td>18.5</td>\n",
              "      <td>192.0</td>\n",
              "      <td>4100.0</td>\n",
              "      <td>2008</td>\n",
              "    </tr>\n",
              "  </tbody>\n",
              "</table>\n",
              "</div>\n",
              "      <button class=\"colab-df-convert\" onclick=\"convertToInteractive('df-96ed67ae-bf57-4957-b473-5115d41bad31')\"\n",
              "              title=\"Convert this dataframe to an interactive table.\"\n",
              "              style=\"display:none;\">\n",
              "        \n",
              "  <svg xmlns=\"http://www.w3.org/2000/svg\" height=\"24px\"viewBox=\"0 0 24 24\"\n",
              "       width=\"24px\">\n",
              "    <path d=\"M0 0h24v24H0V0z\" fill=\"none\"/>\n",
              "    <path d=\"M18.56 5.44l.94 2.06.94-2.06 2.06-.94-2.06-.94-.94-2.06-.94 2.06-2.06.94zm-11 1L8.5 8.5l.94-2.06 2.06-.94-2.06-.94L8.5 2.5l-.94 2.06-2.06.94zm10 10l.94 2.06.94-2.06 2.06-.94-2.06-.94-.94-2.06-.94 2.06-2.06.94z\"/><path d=\"M17.41 7.96l-1.37-1.37c-.4-.4-.92-.59-1.43-.59-.52 0-1.04.2-1.43.59L10.3 9.45l-7.72 7.72c-.78.78-.78 2.05 0 2.83L4 21.41c.39.39.9.59 1.41.59.51 0 1.02-.2 1.41-.59l7.78-7.78 2.81-2.81c.8-.78.8-2.07 0-2.86zM5.41 20L4 18.59l7.72-7.72 1.47 1.35L5.41 20z\"/>\n",
              "  </svg>\n",
              "      </button>\n",
              "      \n",
              "  <style>\n",
              "    .colab-df-container {\n",
              "      display:flex;\n",
              "      flex-wrap:wrap;\n",
              "      gap: 12px;\n",
              "    }\n",
              "\n",
              "    .colab-df-convert {\n",
              "      background-color: #E8F0FE;\n",
              "      border: none;\n",
              "      border-radius: 50%;\n",
              "      cursor: pointer;\n",
              "      display: none;\n",
              "      fill: #1967D2;\n",
              "      height: 32px;\n",
              "      padding: 0 0 0 0;\n",
              "      width: 32px;\n",
              "    }\n",
              "\n",
              "    .colab-df-convert:hover {\n",
              "      background-color: #E2EBFA;\n",
              "      box-shadow: 0px 1px 2px rgba(60, 64, 67, 0.3), 0px 1px 3px 1px rgba(60, 64, 67, 0.15);\n",
              "      fill: #174EA6;\n",
              "    }\n",
              "\n",
              "    [theme=dark] .colab-df-convert {\n",
              "      background-color: #3B4455;\n",
              "      fill: #D2E3FC;\n",
              "    }\n",
              "\n",
              "    [theme=dark] .colab-df-convert:hover {\n",
              "      background-color: #434B5C;\n",
              "      box-shadow: 0px 1px 3px 1px rgba(0, 0, 0, 0.15);\n",
              "      filter: drop-shadow(0px 1px 2px rgba(0, 0, 0, 0.3));\n",
              "      fill: #FFFFFF;\n",
              "    }\n",
              "  </style>\n",
              "\n",
              "      <script>\n",
              "        const buttonEl =\n",
              "          document.querySelector('#df-96ed67ae-bf57-4957-b473-5115d41bad31 button.colab-df-convert');\n",
              "        buttonEl.style.display =\n",
              "          google.colab.kernel.accessAllowed ? 'block' : 'none';\n",
              "\n",
              "        async function convertToInteractive(key) {\n",
              "          const element = document.querySelector('#df-96ed67ae-bf57-4957-b473-5115d41bad31');\n",
              "          const dataTable =\n",
              "            await google.colab.kernel.invokeFunction('convertToInteractive',\n",
              "                                                     [key], {});\n",
              "          if (!dataTable) return;\n",
              "\n",
              "          const docLinkHtml = 'Like what you see? Visit the ' +\n",
              "            '<a target=\"_blank\" href=https://colab.research.google.com/notebooks/data_table.ipynb>data table notebook</a>'\n",
              "            + ' to learn more about interactive tables.';\n",
              "          element.innerHTML = '';\n",
              "          dataTable['output_type'] = 'display_data';\n",
              "          await google.colab.output.renderOutput(dataTable, element);\n",
              "          const docLink = document.createElement('div');\n",
              "          docLink.innerHTML = docLinkHtml;\n",
              "          element.appendChild(docLink);\n",
              "        }\n",
              "      </script>\n",
              "    </div>\n",
              "  </div>\n",
              "  "
            ]
          },
          "metadata": {}
        }
      ],
      "source": [
        "# X Train\n",
        "print('On X train: ')\n",
        "print('X train dimensions: ', X_train.shape)\n",
        "display(X_train.head())\n",
        "\n",
        "# X test\n",
        "print('\\nOn X test: ')\n",
        "print('X test dimensions: ', X_test.shape)\n",
        "display(X_test.head())"
      ]
    },
    {
      "cell_type": "markdown",
      "source": [
        "Then with the class, y"
      ],
      "metadata": {
        "id": "Jor6KFXbDYaQ"
      },
      "id": "Jor6KFXbDYaQ"
    },
    {
      "cell_type": "code",
      "execution_count": 35,
      "id": "113d1ab3-739a-4e42-8500-92b6332b2475",
      "metadata": {
        "id": "113d1ab3-739a-4e42-8500-92b6332b2475",
        "colab": {
          "base_uri": "https://localhost:8080/",
          "height": 312
        },
        "outputId": "776fb3e8-e9fe-4a5e-f1a9-8de6953d2c2d"
      },
      "outputs": [
        {
          "output_type": "stream",
          "name": "stdout",
          "text": [
            "On y train: \n",
            "y train dimensions:  (249,)\n"
          ]
        },
        {
          "output_type": "display_data",
          "data": {
            "text/plain": [
              "101      male\n",
              "260    female\n",
              "142    female\n",
              "155      male\n",
              "136    female\n",
              "Name: sex, dtype: object"
            ]
          },
          "metadata": {}
        },
        {
          "output_type": "stream",
          "name": "stdout",
          "text": [
            "\n",
            "On y test: \n",
            "y test dimensions:  (84,)\n"
          ]
        },
        {
          "output_type": "display_data",
          "data": {
            "text/plain": [
              "308    female\n",
              "120    female\n",
              "206    female\n",
              "106    female\n",
              "99       male\n",
              "Name: sex, dtype: object"
            ]
          },
          "metadata": {}
        }
      ],
      "source": [
        "# Y Train\n",
        "print('On y train: ')\n",
        "print('y train dimensions: ', y_train.shape)\n",
        "display(y_train.head())\n",
        "\n",
        "# Y test\n",
        "print('\\nOn y test: ')\n",
        "print('y test dimensions: ', y_test.shape)\n",
        "display(y_test.head())"
      ]
    },
    {
      "cell_type": "markdown",
      "id": "6a76f5d1-05a4-4f81-8608-099b3b20abef",
      "metadata": {
        "id": "6a76f5d1-05a4-4f81-8608-099b3b20abef"
      },
      "source": [
        "## Establishing the training pipeline\n",
        "\n",
        "We can now establish the training pipeline for our models. Since this is a process we would need to repeat several times, it's good to essentially functionalize the process so we do not need to re-write redundant code. Here, we can impute some values that were missing, and encode any categorical values. Note that these pipelines will change according to the model and methodology you choose - additionally, the pipelines will also change depending on the data types of the columns in your dataset. "
      ]
    },
    {
      "cell_type": "code",
      "execution_count": 36,
      "id": "9ed44830-4039-4564-bde0-2b6661d672c5",
      "metadata": {
        "id": "9ed44830-4039-4564-bde0-2b6661d672c5"
      },
      "outputs": [],
      "source": [
        "#individual pipelines for differing datatypes\n",
        "cat_pipeline = Pipeline(steps=[('cat_impute', SimpleImputer(missing_values=np.nan, strategy='most_frequent')),\n",
        "                               ('onehot_cat', OneHotEncoder(drop='if_binary'))])\n",
        "num_pipeline = Pipeline(steps=[('impute_num', SimpleImputer(missing_values=np.nan, strategy='mean')),\n",
        "                               ('scale_num', StandardScaler())])"
      ]
    },
    {
      "cell_type": "code",
      "execution_count": 37,
      "id": "242c958a-894d-4259-9dfd-387ddf541144",
      "metadata": {
        "id": "242c958a-894d-4259-9dfd-387ddf541144"
      },
      "outputs": [],
      "source": [
        "#establish preprocessing pipeline by columns\n",
        "preproc = ColumnTransformer([('cat_pipe', cat_pipeline, make_column_selector(dtype_include=object)),\n",
        "                             ('num_pipe', num_pipeline, make_column_selector(dtype_include=np.number))],\n",
        "                             remainder='passthrough')"
      ]
    },
    {
      "cell_type": "code",
      "execution_count": 38,
      "id": "917a7dae-35ff-43b2-8186-dbe731d0f08d",
      "metadata": {
        "id": "917a7dae-35ff-43b2-8186-dbe731d0f08d",
        "outputId": "87b895ea-d0b1-4d7c-b721-361e5e5e83eb",
        "colab": {
          "base_uri": "https://localhost:8080/",
          "height": 227
        }
      },
      "outputs": [
        {
          "output_type": "display_data",
          "data": {
            "text/plain": [
              "Pipeline(steps=[('preproc',\n",
              "                 ColumnTransformer(remainder='passthrough',\n",
              "                                   transformers=[('cat_pipe',\n",
              "                                                  Pipeline(steps=[('cat_impute',\n",
              "                                                                   SimpleImputer(strategy='most_frequent')),\n",
              "                                                                  ('onehot_cat',\n",
              "                                                                   OneHotEncoder(drop='if_binary'))]),\n",
              "                                                  <sklearn.compose._column_transformer.make_column_selector object at 0x7f0d8294a950>),\n",
              "                                                 ('num_pipe',\n",
              "                                                  Pipeline(steps=[('impute_num',\n",
              "                                                                   SimpleImputer()),\n",
              "                                                                  ('scale_num',\n",
              "                                                                   StandardScaler())]),\n",
              "                                                  <sklearn.compose._column_transformer.make_column_selector object at 0x7f0d8294a990>)])),\n",
              "                ('mdl',\n",
              "                 LogisticRegression(penalty='elasticnet', solver='saga',\n",
              "                                    tol=0.01))])"
            ],
            "text/html": [
              "<style>#sk-4fd06912-a827-4684-a5f4-254bc21bf5a9 {color: black;background-color: white;}#sk-4fd06912-a827-4684-a5f4-254bc21bf5a9 pre{padding: 0;}#sk-4fd06912-a827-4684-a5f4-254bc21bf5a9 div.sk-toggleable {background-color: white;}#sk-4fd06912-a827-4684-a5f4-254bc21bf5a9 label.sk-toggleable__label {cursor: pointer;display: block;width: 100%;margin-bottom: 0;padding: 0.3em;box-sizing: border-box;text-align: center;}#sk-4fd06912-a827-4684-a5f4-254bc21bf5a9 label.sk-toggleable__label-arrow:before {content: \"▸\";float: left;margin-right: 0.25em;color: #696969;}#sk-4fd06912-a827-4684-a5f4-254bc21bf5a9 label.sk-toggleable__label-arrow:hover:before {color: black;}#sk-4fd06912-a827-4684-a5f4-254bc21bf5a9 div.sk-estimator:hover label.sk-toggleable__label-arrow:before {color: black;}#sk-4fd06912-a827-4684-a5f4-254bc21bf5a9 div.sk-toggleable__content {max-height: 0;max-width: 0;overflow: hidden;text-align: left;background-color: #f0f8ff;}#sk-4fd06912-a827-4684-a5f4-254bc21bf5a9 div.sk-toggleable__content pre {margin: 0.2em;color: black;border-radius: 0.25em;background-color: #f0f8ff;}#sk-4fd06912-a827-4684-a5f4-254bc21bf5a9 input.sk-toggleable__control:checked~div.sk-toggleable__content {max-height: 200px;max-width: 100%;overflow: auto;}#sk-4fd06912-a827-4684-a5f4-254bc21bf5a9 input.sk-toggleable__control:checked~label.sk-toggleable__label-arrow:before {content: \"▾\";}#sk-4fd06912-a827-4684-a5f4-254bc21bf5a9 div.sk-estimator input.sk-toggleable__control:checked~label.sk-toggleable__label {background-color: #d4ebff;}#sk-4fd06912-a827-4684-a5f4-254bc21bf5a9 div.sk-label input.sk-toggleable__control:checked~label.sk-toggleable__label {background-color: #d4ebff;}#sk-4fd06912-a827-4684-a5f4-254bc21bf5a9 input.sk-hidden--visually {border: 0;clip: rect(1px 1px 1px 1px);clip: rect(1px, 1px, 1px, 1px);height: 1px;margin: -1px;overflow: hidden;padding: 0;position: absolute;width: 1px;}#sk-4fd06912-a827-4684-a5f4-254bc21bf5a9 div.sk-estimator {font-family: monospace;background-color: #f0f8ff;border: 1px dotted black;border-radius: 0.25em;box-sizing: border-box;margin-bottom: 0.5em;}#sk-4fd06912-a827-4684-a5f4-254bc21bf5a9 div.sk-estimator:hover {background-color: #d4ebff;}#sk-4fd06912-a827-4684-a5f4-254bc21bf5a9 div.sk-parallel-item::after {content: \"\";width: 100%;border-bottom: 1px solid gray;flex-grow: 1;}#sk-4fd06912-a827-4684-a5f4-254bc21bf5a9 div.sk-label:hover label.sk-toggleable__label {background-color: #d4ebff;}#sk-4fd06912-a827-4684-a5f4-254bc21bf5a9 div.sk-serial::before {content: \"\";position: absolute;border-left: 1px solid gray;box-sizing: border-box;top: 2em;bottom: 0;left: 50%;}#sk-4fd06912-a827-4684-a5f4-254bc21bf5a9 div.sk-serial {display: flex;flex-direction: column;align-items: center;background-color: white;padding-right: 0.2em;padding-left: 0.2em;}#sk-4fd06912-a827-4684-a5f4-254bc21bf5a9 div.sk-item {z-index: 1;}#sk-4fd06912-a827-4684-a5f4-254bc21bf5a9 div.sk-parallel {display: flex;align-items: stretch;justify-content: center;background-color: white;}#sk-4fd06912-a827-4684-a5f4-254bc21bf5a9 div.sk-parallel::before {content: \"\";position: absolute;border-left: 1px solid gray;box-sizing: border-box;top: 2em;bottom: 0;left: 50%;}#sk-4fd06912-a827-4684-a5f4-254bc21bf5a9 div.sk-parallel-item {display: flex;flex-direction: column;position: relative;background-color: white;}#sk-4fd06912-a827-4684-a5f4-254bc21bf5a9 div.sk-parallel-item:first-child::after {align-self: flex-end;width: 50%;}#sk-4fd06912-a827-4684-a5f4-254bc21bf5a9 div.sk-parallel-item:last-child::after {align-self: flex-start;width: 50%;}#sk-4fd06912-a827-4684-a5f4-254bc21bf5a9 div.sk-parallel-item:only-child::after {width: 0;}#sk-4fd06912-a827-4684-a5f4-254bc21bf5a9 div.sk-dashed-wrapped {border: 1px dashed gray;margin: 0 0.4em 0.5em 0.4em;box-sizing: border-box;padding-bottom: 0.4em;background-color: white;position: relative;}#sk-4fd06912-a827-4684-a5f4-254bc21bf5a9 div.sk-label label {font-family: monospace;font-weight: bold;background-color: white;display: inline-block;line-height: 1.2em;}#sk-4fd06912-a827-4684-a5f4-254bc21bf5a9 div.sk-label-container {position: relative;z-index: 2;text-align: center;}#sk-4fd06912-a827-4684-a5f4-254bc21bf5a9 div.sk-container {/* jupyter's `normalize.less` sets `[hidden] { display: none; }` but bootstrap.min.css set `[hidden] { display: none !important; }` so we also need the `!important` here to be able to override the default hidden behavior on the sphinx rendered scikit-learn.org. See: https://github.com/scikit-learn/scikit-learn/issues/21755 */display: inline-block !important;position: relative;}#sk-4fd06912-a827-4684-a5f4-254bc21bf5a9 div.sk-text-repr-fallback {display: none;}</style><div id=\"sk-4fd06912-a827-4684-a5f4-254bc21bf5a9\" class=\"sk-top-container\"><div class=\"sk-text-repr-fallback\"><pre>Pipeline(steps=[(&#x27;preproc&#x27;,\n",
              "                 ColumnTransformer(remainder=&#x27;passthrough&#x27;,\n",
              "                                   transformers=[(&#x27;cat_pipe&#x27;,\n",
              "                                                  Pipeline(steps=[(&#x27;cat_impute&#x27;,\n",
              "                                                                   SimpleImputer(strategy=&#x27;most_frequent&#x27;)),\n",
              "                                                                  (&#x27;onehot_cat&#x27;,\n",
              "                                                                   OneHotEncoder(drop=&#x27;if_binary&#x27;))]),\n",
              "                                                  &lt;sklearn.compose._column_transformer.make_column_selector object at 0x7f0d8294a950&gt;),\n",
              "                                                 (&#x27;num_pipe&#x27;,\n",
              "                                                  Pipeline(steps=[(&#x27;impute_num&#x27;,\n",
              "                                                                   SimpleImputer()),\n",
              "                                                                  (&#x27;scale_num&#x27;,\n",
              "                                                                   StandardScaler())]),\n",
              "                                                  &lt;sklearn.compose._column_transformer.make_column_selector object at 0x7f0d8294a990&gt;)])),\n",
              "                (&#x27;mdl&#x27;,\n",
              "                 LogisticRegression(penalty=&#x27;elasticnet&#x27;, solver=&#x27;saga&#x27;,\n",
              "                                    tol=0.01))])</pre><b>Please rerun this cell to show the HTML repr or trust the notebook.</b></div><div class=\"sk-container\" hidden><div class=\"sk-item sk-dashed-wrapped\"><div class=\"sk-label-container\"><div class=\"sk-label sk-toggleable\"><input class=\"sk-toggleable__control sk-hidden--visually\" id=\"67fab6aa-3c61-4177-a01f-2b1f290e77e8\" type=\"checkbox\" ><label for=\"67fab6aa-3c61-4177-a01f-2b1f290e77e8\" class=\"sk-toggleable__label sk-toggleable__label-arrow\">Pipeline</label><div class=\"sk-toggleable__content\"><pre>Pipeline(steps=[(&#x27;preproc&#x27;,\n",
              "                 ColumnTransformer(remainder=&#x27;passthrough&#x27;,\n",
              "                                   transformers=[(&#x27;cat_pipe&#x27;,\n",
              "                                                  Pipeline(steps=[(&#x27;cat_impute&#x27;,\n",
              "                                                                   SimpleImputer(strategy=&#x27;most_frequent&#x27;)),\n",
              "                                                                  (&#x27;onehot_cat&#x27;,\n",
              "                                                                   OneHotEncoder(drop=&#x27;if_binary&#x27;))]),\n",
              "                                                  &lt;sklearn.compose._column_transformer.make_column_selector object at 0x7f0d8294a950&gt;),\n",
              "                                                 (&#x27;num_pipe&#x27;,\n",
              "                                                  Pipeline(steps=[(&#x27;impute_num&#x27;,\n",
              "                                                                   SimpleImputer()),\n",
              "                                                                  (&#x27;scale_num&#x27;,\n",
              "                                                                   StandardScaler())]),\n",
              "                                                  &lt;sklearn.compose._column_transformer.make_column_selector object at 0x7f0d8294a990&gt;)])),\n",
              "                (&#x27;mdl&#x27;,\n",
              "                 LogisticRegression(penalty=&#x27;elasticnet&#x27;, solver=&#x27;saga&#x27;,\n",
              "                                    tol=0.01))])</pre></div></div></div><div class=\"sk-serial\"><div class=\"sk-item sk-dashed-wrapped\"><div class=\"sk-label-container\"><div class=\"sk-label sk-toggleable\"><input class=\"sk-toggleable__control sk-hidden--visually\" id=\"3e178362-0fcf-4af3-825f-e0cd31e4749c\" type=\"checkbox\" ><label for=\"3e178362-0fcf-4af3-825f-e0cd31e4749c\" class=\"sk-toggleable__label sk-toggleable__label-arrow\">preproc: ColumnTransformer</label><div class=\"sk-toggleable__content\"><pre>ColumnTransformer(remainder=&#x27;passthrough&#x27;,\n",
              "                  transformers=[(&#x27;cat_pipe&#x27;,\n",
              "                                 Pipeline(steps=[(&#x27;cat_impute&#x27;,\n",
              "                                                  SimpleImputer(strategy=&#x27;most_frequent&#x27;)),\n",
              "                                                 (&#x27;onehot_cat&#x27;,\n",
              "                                                  OneHotEncoder(drop=&#x27;if_binary&#x27;))]),\n",
              "                                 &lt;sklearn.compose._column_transformer.make_column_selector object at 0x7f0d8294a950&gt;),\n",
              "                                (&#x27;num_pipe&#x27;,\n",
              "                                 Pipeline(steps=[(&#x27;impute_num&#x27;,\n",
              "                                                  SimpleImputer()),\n",
              "                                                 (&#x27;scale_num&#x27;,\n",
              "                                                  StandardScaler())]),\n",
              "                                 &lt;sklearn.compose._column_transformer.make_column_selector object at 0x7f0d8294a990&gt;)])</pre></div></div></div><div class=\"sk-parallel\"><div class=\"sk-parallel-item\"><div class=\"sk-item\"><div class=\"sk-label-container\"><div class=\"sk-label sk-toggleable\"><input class=\"sk-toggleable__control sk-hidden--visually\" id=\"9426bb4d-3341-4607-ae99-d68153bea558\" type=\"checkbox\" ><label for=\"9426bb4d-3341-4607-ae99-d68153bea558\" class=\"sk-toggleable__label sk-toggleable__label-arrow\">cat_pipe</label><div class=\"sk-toggleable__content\"><pre>&lt;sklearn.compose._column_transformer.make_column_selector object at 0x7f0d8294a950&gt;</pre></div></div></div><div class=\"sk-serial\"><div class=\"sk-item\"><div class=\"sk-serial\"><div class=\"sk-item\"><div class=\"sk-estimator sk-toggleable\"><input class=\"sk-toggleable__control sk-hidden--visually\" id=\"de9d01ec-70b6-4181-b243-089a2bc06364\" type=\"checkbox\" ><label for=\"de9d01ec-70b6-4181-b243-089a2bc06364\" class=\"sk-toggleable__label sk-toggleable__label-arrow\">SimpleImputer</label><div class=\"sk-toggleable__content\"><pre>SimpleImputer(strategy=&#x27;most_frequent&#x27;)</pre></div></div></div><div class=\"sk-item\"><div class=\"sk-estimator sk-toggleable\"><input class=\"sk-toggleable__control sk-hidden--visually\" id=\"b343e6d4-fab2-4e55-9dfb-a73e603b8edd\" type=\"checkbox\" ><label for=\"b343e6d4-fab2-4e55-9dfb-a73e603b8edd\" class=\"sk-toggleable__label sk-toggleable__label-arrow\">OneHotEncoder</label><div class=\"sk-toggleable__content\"><pre>OneHotEncoder(drop=&#x27;if_binary&#x27;)</pre></div></div></div></div></div></div></div></div><div class=\"sk-parallel-item\"><div class=\"sk-item\"><div class=\"sk-label-container\"><div class=\"sk-label sk-toggleable\"><input class=\"sk-toggleable__control sk-hidden--visually\" id=\"f369326c-0f50-4fbf-84f2-5928aa828b31\" type=\"checkbox\" ><label for=\"f369326c-0f50-4fbf-84f2-5928aa828b31\" class=\"sk-toggleable__label sk-toggleable__label-arrow\">num_pipe</label><div class=\"sk-toggleable__content\"><pre>&lt;sklearn.compose._column_transformer.make_column_selector object at 0x7f0d8294a990&gt;</pre></div></div></div><div class=\"sk-serial\"><div class=\"sk-item\"><div class=\"sk-serial\"><div class=\"sk-item\"><div class=\"sk-estimator sk-toggleable\"><input class=\"sk-toggleable__control sk-hidden--visually\" id=\"6f76a563-95ab-46cc-b6fb-5b19bc07d329\" type=\"checkbox\" ><label for=\"6f76a563-95ab-46cc-b6fb-5b19bc07d329\" class=\"sk-toggleable__label sk-toggleable__label-arrow\">SimpleImputer</label><div class=\"sk-toggleable__content\"><pre>SimpleImputer()</pre></div></div></div><div class=\"sk-item\"><div class=\"sk-estimator sk-toggleable\"><input class=\"sk-toggleable__control sk-hidden--visually\" id=\"e9de6574-5326-4be2-87d9-a9e232a7af9c\" type=\"checkbox\" ><label for=\"e9de6574-5326-4be2-87d9-a9e232a7af9c\" class=\"sk-toggleable__label sk-toggleable__label-arrow\">StandardScaler</label><div class=\"sk-toggleable__content\"><pre>StandardScaler()</pre></div></div></div></div></div></div></div></div><div class=\"sk-parallel-item\"><div class=\"sk-item\"><div class=\"sk-label-container\"><div class=\"sk-label sk-toggleable\"><input class=\"sk-toggleable__control sk-hidden--visually\" id=\"f278bc07-74ee-4f46-837c-3ec0944943a4\" type=\"checkbox\" ><label for=\"f278bc07-74ee-4f46-837c-3ec0944943a4\" class=\"sk-toggleable__label sk-toggleable__label-arrow\">remainder</label><div class=\"sk-toggleable__content\"><pre></pre></div></div></div><div class=\"sk-serial\"><div class=\"sk-item\"><div class=\"sk-estimator sk-toggleable\"><input class=\"sk-toggleable__control sk-hidden--visually\" id=\"1b1098f6-c545-4015-8ceb-72152ded0e38\" type=\"checkbox\" ><label for=\"1b1098f6-c545-4015-8ceb-72152ded0e38\" class=\"sk-toggleable__label sk-toggleable__label-arrow\">passthrough</label><div class=\"sk-toggleable__content\"><pre>passthrough</pre></div></div></div></div></div></div></div></div><div class=\"sk-item\"><div class=\"sk-estimator sk-toggleable\"><input class=\"sk-toggleable__control sk-hidden--visually\" id=\"8722f301-525d-401b-8fd1-c89a952178c9\" type=\"checkbox\" ><label for=\"8722f301-525d-401b-8fd1-c89a952178c9\" class=\"sk-toggleable__label sk-toggleable__label-arrow\">LogisticRegression</label><div class=\"sk-toggleable__content\"><pre>LogisticRegression(penalty=&#x27;elasticnet&#x27;, solver=&#x27;saga&#x27;, tol=0.01)</pre></div></div></div></div></div></div></div>"
            ]
          },
          "metadata": {}
        }
      ],
      "source": [
        "#generate the whole modeling pipeline with preprocessing\n",
        "pipe = Pipeline(steps=[('preproc', preproc),\n",
        "                       ('mdl', LogisticRegression(penalty='elasticnet', solver='saga', tol=0.01))])\n",
        "\n",
        "#visualization for steps\n",
        "with config_context(display='diagram'):\n",
        "    display(pipe)"
      ]
    },
    {
      "cell_type": "markdown",
      "id": "32517c21-62d6-4d8c-81ad-aa08a3199ff3",
      "metadata": {
        "id": "32517c21-62d6-4d8c-81ad-aa08a3199ff3"
      },
      "source": [
        "## Cross-validation with Hyperparameter Tuning\n",
        "\n",
        "Now that we have our pipelines, we can now use this as part of cross validation and hyperparameter tuning."
      ]
    },
    {
      "cell_type": "code",
      "execution_count": 39,
      "id": "f94e90d0-7785-48f4-a0cd-ff37090a92d9",
      "metadata": {
        "id": "f94e90d0-7785-48f4-a0cd-ff37090a92d9"
      },
      "outputs": [],
      "source": [
        "tuning_grid = {'mdl__l1_ratio' : np.linspace(0,1,5),\n",
        "               'mdl__C': np.logspace(-1, 6, 3) }\n",
        "grid_search = GridSearchCV(pipe, param_grid = tuning_grid, cv = 5, return_train_score=True)"
      ]
    },
    {
      "cell_type": "markdown",
      "source": [
        "Let's look at the resulting tuning grid."
      ],
      "metadata": {
        "id": "Ojf56zGLIDkG"
      },
      "id": "Ojf56zGLIDkG"
    },
    {
      "cell_type": "code",
      "execution_count": 40,
      "id": "4b612b9e-e561-47c9-9ecb-8ea5ec62cda9",
      "metadata": {
        "id": "4b612b9e-e561-47c9-9ecb-8ea5ec62cda9",
        "outputId": "741513d9-1049-4a21-82ee-2a8424fd1d14",
        "colab": {
          "base_uri": "https://localhost:8080/"
        }
      },
      "outputs": [
        {
          "output_type": "execute_result",
          "data": {
            "text/plain": [
              "{'mdl__l1_ratio': array([0.  , 0.25, 0.5 , 0.75, 1.  ]),\n",
              " 'mdl__C': array([1.00000000e-01, 3.16227766e+02, 1.00000000e+06])}"
            ]
          },
          "metadata": {},
          "execution_count": 40
        }
      ],
      "source": [
        "tuning_grid"
      ]
    },
    {
      "cell_type": "markdown",
      "source": [
        "Now we'll actually do our model fitting and grid search. We'll only train on the training data, and leave the test data for when we have chosen our final model/parameters. "
      ],
      "metadata": {
        "id": "gxW57nPKILYA"
      },
      "id": "gxW57nPKILYA"
    },
    {
      "cell_type": "code",
      "execution_count": 41,
      "id": "e8f2cb02-c5eb-4fd4-9331-050191081014",
      "metadata": {
        "id": "e8f2cb02-c5eb-4fd4-9331-050191081014",
        "colab": {
          "base_uri": "https://localhost:8080/"
        },
        "outputId": "5a106d28-e31e-4dc6-8442-d9203078152d"
      },
      "outputs": [
        {
          "output_type": "execute_result",
          "data": {
            "text/plain": [
              "GridSearchCV(cv=5,\n",
              "             estimator=Pipeline(steps=[('preproc',\n",
              "                                        ColumnTransformer(remainder='passthrough',\n",
              "                                                          transformers=[('cat_pipe',\n",
              "                                                                         Pipeline(steps=[('cat_impute',\n",
              "                                                                                          SimpleImputer(strategy='most_frequent')),\n",
              "                                                                                         ('onehot_cat',\n",
              "                                                                                          OneHotEncoder(drop='if_binary'))]),\n",
              "                                                                         <sklearn.compose._column_transformer.make_column_selector object at 0x7f0d8294a950>),\n",
              "                                                                        ('num_pipe',\n",
              "                                                                         Pipeline(step...\n",
              "                                                                                          SimpleImputer()),\n",
              "                                                                                         ('scale_num',\n",
              "                                                                                          StandardScaler())]),\n",
              "                                                                         <sklearn.compose._column_transformer.make_column_selector object at 0x7f0d8294a990>)])),\n",
              "                                       ('mdl',\n",
              "                                        LogisticRegression(penalty='elasticnet',\n",
              "                                                           solver='saga',\n",
              "                                                           tol=0.01))]),\n",
              "             param_grid={'mdl__C': array([1.00000000e-01, 3.16227766e+02, 1.00000000e+06]),\n",
              "                         'mdl__l1_ratio': array([0.  , 0.25, 0.5 , 0.75, 1.  ])},\n",
              "             return_train_score=True)"
            ]
          },
          "metadata": {},
          "execution_count": 41
        }
      ],
      "source": [
        "grid_search.fit(X_train, y_train)\n"
      ]
    },
    {
      "cell_type": "markdown",
      "source": [
        "This has fit multiple models. Which was the best?"
      ],
      "metadata": {
        "id": "3AsF8jtTIh73"
      },
      "id": "3AsF8jtTIh73"
    },
    {
      "cell_type": "code",
      "execution_count": 42,
      "id": "69f4874e-0de3-462f-95ef-d01ba648f7a4",
      "metadata": {
        "id": "69f4874e-0de3-462f-95ef-d01ba648f7a4",
        "colab": {
          "base_uri": "https://localhost:8080/"
        },
        "outputId": "0f15e3cc-aaa1-424f-de5f-4a9622385116"
      },
      "outputs": [
        {
          "output_type": "stream",
          "name": "stdout",
          "text": [
            "0.9158367346938775\n"
          ]
        },
        {
          "output_type": "execute_result",
          "data": {
            "text/plain": [
              "{'mdl__C': 316.22776601683796, 'mdl__l1_ratio': 0.0}"
            ]
          },
          "metadata": {},
          "execution_count": 42
        }
      ],
      "source": [
        "print(grid_search.best_score_)\n",
        "grid_search.best_params_"
      ]
    },
    {
      "cell_type": "markdown",
      "source": [
        "And we can look at ALL of the cross-validation results as well:"
      ],
      "metadata": {
        "id": "KJUxqSvmI4Y2"
      },
      "id": "KJUxqSvmI4Y2"
    },
    {
      "cell_type": "code",
      "execution_count": 43,
      "id": "f9529343-553b-417d-9347-fec243edd4d2",
      "metadata": {
        "id": "f9529343-553b-417d-9347-fec243edd4d2",
        "colab": {
          "base_uri": "https://localhost:8080/",
          "height": 960
        },
        "outputId": "16a1df11-5d69-46be-da8c-94812b8f56ff"
      },
      "outputs": [
        {
          "output_type": "execute_result",
          "data": {
            "text/plain": [
              "    mean_fit_time  std_fit_time  mean_score_time  std_score_time param_mdl__C  \\\n",
              "0        0.015604      0.000697         0.005870        0.000259          0.1   \n",
              "1        0.014767      0.000781         0.005892        0.000441          0.1   \n",
              "2        0.018193      0.002515         0.007046        0.000546          0.1   \n",
              "3        0.016241      0.001459         0.006164        0.000229          0.1   \n",
              "4        0.015811      0.003664         0.006620        0.001518          0.1   \n",
              "5        0.017477      0.002809         0.006500        0.001781   316.227766   \n",
              "6        0.015774      0.000860         0.005692        0.000304   316.227766   \n",
              "7        0.015922      0.000633         0.006483        0.000970   316.227766   \n",
              "8        0.016491      0.001590         0.006302        0.000384   316.227766   \n",
              "9        0.016844      0.002027         0.005873        0.000423   316.227766   \n",
              "10       0.016124      0.000529         0.006265        0.000530    1000000.0   \n",
              "11       0.016647      0.000963         0.006613        0.001399    1000000.0   \n",
              "12       0.017001      0.001846         0.006108        0.000309    1000000.0   \n",
              "13       0.016466      0.001365         0.005616        0.000210    1000000.0   \n",
              "14       0.016309      0.001041         0.006179        0.000495    1000000.0   \n",
              "\n",
              "   param_mdl__l1_ratio                                             params  \\\n",
              "0                  0.0              {'mdl__C': 0.1, 'mdl__l1_ratio': 0.0}   \n",
              "1                 0.25             {'mdl__C': 0.1, 'mdl__l1_ratio': 0.25}   \n",
              "2                  0.5              {'mdl__C': 0.1, 'mdl__l1_ratio': 0.5}   \n",
              "3                 0.75             {'mdl__C': 0.1, 'mdl__l1_ratio': 0.75}   \n",
              "4                  1.0              {'mdl__C': 0.1, 'mdl__l1_ratio': 1.0}   \n",
              "5                  0.0  {'mdl__C': 316.22776601683796, 'mdl__l1_ratio'...   \n",
              "6                 0.25  {'mdl__C': 316.22776601683796, 'mdl__l1_ratio'...   \n",
              "7                  0.5  {'mdl__C': 316.22776601683796, 'mdl__l1_ratio'...   \n",
              "8                 0.75  {'mdl__C': 316.22776601683796, 'mdl__l1_ratio'...   \n",
              "9                  1.0  {'mdl__C': 316.22776601683796, 'mdl__l1_ratio'...   \n",
              "10                 0.0        {'mdl__C': 1000000.0, 'mdl__l1_ratio': 0.0}   \n",
              "11                0.25       {'mdl__C': 1000000.0, 'mdl__l1_ratio': 0.25}   \n",
              "12                 0.5        {'mdl__C': 1000000.0, 'mdl__l1_ratio': 0.5}   \n",
              "13                0.75       {'mdl__C': 1000000.0, 'mdl__l1_ratio': 0.75}   \n",
              "14                 1.0        {'mdl__C': 1000000.0, 'mdl__l1_ratio': 1.0}   \n",
              "\n",
              "    split0_test_score  split1_test_score  split2_test_score  ...  \\\n",
              "0                0.90               0.90               0.92  ...   \n",
              "1                0.90               0.90               0.92  ...   \n",
              "2                0.92               0.88               0.90  ...   \n",
              "3                0.92               0.88               0.90  ...   \n",
              "4                0.88               0.88               0.90  ...   \n",
              "5                0.90               0.90               0.92  ...   \n",
              "6                0.90               0.90               0.92  ...   \n",
              "7                0.90               0.90               0.92  ...   \n",
              "8                0.90               0.90               0.92  ...   \n",
              "9                0.90               0.90               0.92  ...   \n",
              "10               0.90               0.90               0.92  ...   \n",
              "11               0.90               0.90               0.92  ...   \n",
              "12               0.90               0.90               0.92  ...   \n",
              "13               0.90               0.90               0.92  ...   \n",
              "14               0.90               0.90               0.92  ...   \n",
              "\n",
              "    mean_test_score  std_test_score  rank_test_score  split0_train_score  \\\n",
              "0          0.903673        0.014628               11            0.899497   \n",
              "1          0.903673        0.014628               11            0.889447   \n",
              "2          0.899837        0.039756               13            0.894472   \n",
              "3          0.899673        0.017532               14            0.904523   \n",
              "4          0.891673        0.015432               15            0.899497   \n",
              "5          0.915837        0.023016                1            0.929648   \n",
              "6          0.915837        0.023016                1            0.929648   \n",
              "7          0.915837        0.023016                1            0.929648   \n",
              "8          0.915837        0.023016                1            0.929648   \n",
              "9          0.915837        0.023016                1            0.929648   \n",
              "10         0.915837        0.023016                1            0.929648   \n",
              "11         0.915837        0.023016                1            0.929648   \n",
              "12         0.915837        0.023016                1            0.929648   \n",
              "13         0.915837        0.023016                1            0.929648   \n",
              "14         0.915837        0.023016                1            0.929648   \n",
              "\n",
              "    split1_train_score  split2_train_score  split3_train_score  \\\n",
              "0             0.909548            0.909548            0.904523   \n",
              "1             0.914573            0.904523            0.914573   \n",
              "2             0.904523            0.884422            0.909548   \n",
              "3             0.914573            0.904523            0.909548   \n",
              "4             0.884422            0.899497            0.899497   \n",
              "5             0.929648            0.939698            0.939698   \n",
              "6             0.929648            0.939698            0.939698   \n",
              "7             0.929648            0.939698            0.939698   \n",
              "8             0.929648            0.939698            0.939698   \n",
              "9             0.929648            0.939698            0.939698   \n",
              "10            0.929648            0.939698            0.939698   \n",
              "11            0.929648            0.939698            0.939698   \n",
              "12            0.929648            0.939698            0.939698   \n",
              "13            0.929648            0.939698            0.939698   \n",
              "14            0.929648            0.939698            0.939698   \n",
              "\n",
              "    split4_train_score  mean_train_score  std_train_score  \n",
              "0                0.905          0.905623         0.003740  \n",
              "1                0.905          0.905623         0.009203  \n",
              "2                0.900          0.898593         0.008660  \n",
              "3                0.885          0.903633         0.010034  \n",
              "4                0.885          0.893583         0.007246  \n",
              "5                0.915          0.930739         0.009062  \n",
              "6                0.915          0.930739         0.009062  \n",
              "7                0.915          0.930739         0.009062  \n",
              "8                0.915          0.930739         0.009062  \n",
              "9                0.915          0.930739         0.009062  \n",
              "10               0.915          0.930739         0.009062  \n",
              "11               0.915          0.930739         0.009062  \n",
              "12               0.915          0.930739         0.009062  \n",
              "13               0.915          0.930739         0.009062  \n",
              "14               0.915          0.930739         0.009062  \n",
              "\n",
              "[15 rows x 22 columns]"
            ],
            "text/html": [
              "\n",
              "  <div id=\"df-bba56a8a-b42c-4c99-b0a4-a6ce4d806900\">\n",
              "    <div class=\"colab-df-container\">\n",
              "      <div>\n",
              "<style scoped>\n",
              "    .dataframe tbody tr th:only-of-type {\n",
              "        vertical-align: middle;\n",
              "    }\n",
              "\n",
              "    .dataframe tbody tr th {\n",
              "        vertical-align: top;\n",
              "    }\n",
              "\n",
              "    .dataframe thead th {\n",
              "        text-align: right;\n",
              "    }\n",
              "</style>\n",
              "<table border=\"1\" class=\"dataframe\">\n",
              "  <thead>\n",
              "    <tr style=\"text-align: right;\">\n",
              "      <th></th>\n",
              "      <th>mean_fit_time</th>\n",
              "      <th>std_fit_time</th>\n",
              "      <th>mean_score_time</th>\n",
              "      <th>std_score_time</th>\n",
              "      <th>param_mdl__C</th>\n",
              "      <th>param_mdl__l1_ratio</th>\n",
              "      <th>params</th>\n",
              "      <th>split0_test_score</th>\n",
              "      <th>split1_test_score</th>\n",
              "      <th>split2_test_score</th>\n",
              "      <th>...</th>\n",
              "      <th>mean_test_score</th>\n",
              "      <th>std_test_score</th>\n",
              "      <th>rank_test_score</th>\n",
              "      <th>split0_train_score</th>\n",
              "      <th>split1_train_score</th>\n",
              "      <th>split2_train_score</th>\n",
              "      <th>split3_train_score</th>\n",
              "      <th>split4_train_score</th>\n",
              "      <th>mean_train_score</th>\n",
              "      <th>std_train_score</th>\n",
              "    </tr>\n",
              "  </thead>\n",
              "  <tbody>\n",
              "    <tr>\n",
              "      <th>0</th>\n",
              "      <td>0.015604</td>\n",
              "      <td>0.000697</td>\n",
              "      <td>0.005870</td>\n",
              "      <td>0.000259</td>\n",
              "      <td>0.1</td>\n",
              "      <td>0.0</td>\n",
              "      <td>{'mdl__C': 0.1, 'mdl__l1_ratio': 0.0}</td>\n",
              "      <td>0.90</td>\n",
              "      <td>0.90</td>\n",
              "      <td>0.92</td>\n",
              "      <td>...</td>\n",
              "      <td>0.903673</td>\n",
              "      <td>0.014628</td>\n",
              "      <td>11</td>\n",
              "      <td>0.899497</td>\n",
              "      <td>0.909548</td>\n",
              "      <td>0.909548</td>\n",
              "      <td>0.904523</td>\n",
              "      <td>0.905</td>\n",
              "      <td>0.905623</td>\n",
              "      <td>0.003740</td>\n",
              "    </tr>\n",
              "    <tr>\n",
              "      <th>1</th>\n",
              "      <td>0.014767</td>\n",
              "      <td>0.000781</td>\n",
              "      <td>0.005892</td>\n",
              "      <td>0.000441</td>\n",
              "      <td>0.1</td>\n",
              "      <td>0.25</td>\n",
              "      <td>{'mdl__C': 0.1, 'mdl__l1_ratio': 0.25}</td>\n",
              "      <td>0.90</td>\n",
              "      <td>0.90</td>\n",
              "      <td>0.92</td>\n",
              "      <td>...</td>\n",
              "      <td>0.903673</td>\n",
              "      <td>0.014628</td>\n",
              "      <td>11</td>\n",
              "      <td>0.889447</td>\n",
              "      <td>0.914573</td>\n",
              "      <td>0.904523</td>\n",
              "      <td>0.914573</td>\n",
              "      <td>0.905</td>\n",
              "      <td>0.905623</td>\n",
              "      <td>0.009203</td>\n",
              "    </tr>\n",
              "    <tr>\n",
              "      <th>2</th>\n",
              "      <td>0.018193</td>\n",
              "      <td>0.002515</td>\n",
              "      <td>0.007046</td>\n",
              "      <td>0.000546</td>\n",
              "      <td>0.1</td>\n",
              "      <td>0.5</td>\n",
              "      <td>{'mdl__C': 0.1, 'mdl__l1_ratio': 0.5}</td>\n",
              "      <td>0.92</td>\n",
              "      <td>0.88</td>\n",
              "      <td>0.90</td>\n",
              "      <td>...</td>\n",
              "      <td>0.899837</td>\n",
              "      <td>0.039756</td>\n",
              "      <td>13</td>\n",
              "      <td>0.894472</td>\n",
              "      <td>0.904523</td>\n",
              "      <td>0.884422</td>\n",
              "      <td>0.909548</td>\n",
              "      <td>0.900</td>\n",
              "      <td>0.898593</td>\n",
              "      <td>0.008660</td>\n",
              "    </tr>\n",
              "    <tr>\n",
              "      <th>3</th>\n",
              "      <td>0.016241</td>\n",
              "      <td>0.001459</td>\n",
              "      <td>0.006164</td>\n",
              "      <td>0.000229</td>\n",
              "      <td>0.1</td>\n",
              "      <td>0.75</td>\n",
              "      <td>{'mdl__C': 0.1, 'mdl__l1_ratio': 0.75}</td>\n",
              "      <td>0.92</td>\n",
              "      <td>0.88</td>\n",
              "      <td>0.90</td>\n",
              "      <td>...</td>\n",
              "      <td>0.899673</td>\n",
              "      <td>0.017532</td>\n",
              "      <td>14</td>\n",
              "      <td>0.904523</td>\n",
              "      <td>0.914573</td>\n",
              "      <td>0.904523</td>\n",
              "      <td>0.909548</td>\n",
              "      <td>0.885</td>\n",
              "      <td>0.903633</td>\n",
              "      <td>0.010034</td>\n",
              "    </tr>\n",
              "    <tr>\n",
              "      <th>4</th>\n",
              "      <td>0.015811</td>\n",
              "      <td>0.003664</td>\n",
              "      <td>0.006620</td>\n",
              "      <td>0.001518</td>\n",
              "      <td>0.1</td>\n",
              "      <td>1.0</td>\n",
              "      <td>{'mdl__C': 0.1, 'mdl__l1_ratio': 1.0}</td>\n",
              "      <td>0.88</td>\n",
              "      <td>0.88</td>\n",
              "      <td>0.90</td>\n",
              "      <td>...</td>\n",
              "      <td>0.891673</td>\n",
              "      <td>0.015432</td>\n",
              "      <td>15</td>\n",
              "      <td>0.899497</td>\n",
              "      <td>0.884422</td>\n",
              "      <td>0.899497</td>\n",
              "      <td>0.899497</td>\n",
              "      <td>0.885</td>\n",
              "      <td>0.893583</td>\n",
              "      <td>0.007246</td>\n",
              "    </tr>\n",
              "    <tr>\n",
              "      <th>5</th>\n",
              "      <td>0.017477</td>\n",
              "      <td>0.002809</td>\n",
              "      <td>0.006500</td>\n",
              "      <td>0.001781</td>\n",
              "      <td>316.227766</td>\n",
              "      <td>0.0</td>\n",
              "      <td>{'mdl__C': 316.22776601683796, 'mdl__l1_ratio'...</td>\n",
              "      <td>0.90</td>\n",
              "      <td>0.90</td>\n",
              "      <td>0.92</td>\n",
              "      <td>...</td>\n",
              "      <td>0.915837</td>\n",
              "      <td>0.023016</td>\n",
              "      <td>1</td>\n",
              "      <td>0.929648</td>\n",
              "      <td>0.929648</td>\n",
              "      <td>0.939698</td>\n",
              "      <td>0.939698</td>\n",
              "      <td>0.915</td>\n",
              "      <td>0.930739</td>\n",
              "      <td>0.009062</td>\n",
              "    </tr>\n",
              "    <tr>\n",
              "      <th>6</th>\n",
              "      <td>0.015774</td>\n",
              "      <td>0.000860</td>\n",
              "      <td>0.005692</td>\n",
              "      <td>0.000304</td>\n",
              "      <td>316.227766</td>\n",
              "      <td>0.25</td>\n",
              "      <td>{'mdl__C': 316.22776601683796, 'mdl__l1_ratio'...</td>\n",
              "      <td>0.90</td>\n",
              "      <td>0.90</td>\n",
              "      <td>0.92</td>\n",
              "      <td>...</td>\n",
              "      <td>0.915837</td>\n",
              "      <td>0.023016</td>\n",
              "      <td>1</td>\n",
              "      <td>0.929648</td>\n",
              "      <td>0.929648</td>\n",
              "      <td>0.939698</td>\n",
              "      <td>0.939698</td>\n",
              "      <td>0.915</td>\n",
              "      <td>0.930739</td>\n",
              "      <td>0.009062</td>\n",
              "    </tr>\n",
              "    <tr>\n",
              "      <th>7</th>\n",
              "      <td>0.015922</td>\n",
              "      <td>0.000633</td>\n",
              "      <td>0.006483</td>\n",
              "      <td>0.000970</td>\n",
              "      <td>316.227766</td>\n",
              "      <td>0.5</td>\n",
              "      <td>{'mdl__C': 316.22776601683796, 'mdl__l1_ratio'...</td>\n",
              "      <td>0.90</td>\n",
              "      <td>0.90</td>\n",
              "      <td>0.92</td>\n",
              "      <td>...</td>\n",
              "      <td>0.915837</td>\n",
              "      <td>0.023016</td>\n",
              "      <td>1</td>\n",
              "      <td>0.929648</td>\n",
              "      <td>0.929648</td>\n",
              "      <td>0.939698</td>\n",
              "      <td>0.939698</td>\n",
              "      <td>0.915</td>\n",
              "      <td>0.930739</td>\n",
              "      <td>0.009062</td>\n",
              "    </tr>\n",
              "    <tr>\n",
              "      <th>8</th>\n",
              "      <td>0.016491</td>\n",
              "      <td>0.001590</td>\n",
              "      <td>0.006302</td>\n",
              "      <td>0.000384</td>\n",
              "      <td>316.227766</td>\n",
              "      <td>0.75</td>\n",
              "      <td>{'mdl__C': 316.22776601683796, 'mdl__l1_ratio'...</td>\n",
              "      <td>0.90</td>\n",
              "      <td>0.90</td>\n",
              "      <td>0.92</td>\n",
              "      <td>...</td>\n",
              "      <td>0.915837</td>\n",
              "      <td>0.023016</td>\n",
              "      <td>1</td>\n",
              "      <td>0.929648</td>\n",
              "      <td>0.929648</td>\n",
              "      <td>0.939698</td>\n",
              "      <td>0.939698</td>\n",
              "      <td>0.915</td>\n",
              "      <td>0.930739</td>\n",
              "      <td>0.009062</td>\n",
              "    </tr>\n",
              "    <tr>\n",
              "      <th>9</th>\n",
              "      <td>0.016844</td>\n",
              "      <td>0.002027</td>\n",
              "      <td>0.005873</td>\n",
              "      <td>0.000423</td>\n",
              "      <td>316.227766</td>\n",
              "      <td>1.0</td>\n",
              "      <td>{'mdl__C': 316.22776601683796, 'mdl__l1_ratio'...</td>\n",
              "      <td>0.90</td>\n",
              "      <td>0.90</td>\n",
              "      <td>0.92</td>\n",
              "      <td>...</td>\n",
              "      <td>0.915837</td>\n",
              "      <td>0.023016</td>\n",
              "      <td>1</td>\n",
              "      <td>0.929648</td>\n",
              "      <td>0.929648</td>\n",
              "      <td>0.939698</td>\n",
              "      <td>0.939698</td>\n",
              "      <td>0.915</td>\n",
              "      <td>0.930739</td>\n",
              "      <td>0.009062</td>\n",
              "    </tr>\n",
              "    <tr>\n",
              "      <th>10</th>\n",
              "      <td>0.016124</td>\n",
              "      <td>0.000529</td>\n",
              "      <td>0.006265</td>\n",
              "      <td>0.000530</td>\n",
              "      <td>1000000.0</td>\n",
              "      <td>0.0</td>\n",
              "      <td>{'mdl__C': 1000000.0, 'mdl__l1_ratio': 0.0}</td>\n",
              "      <td>0.90</td>\n",
              "      <td>0.90</td>\n",
              "      <td>0.92</td>\n",
              "      <td>...</td>\n",
              "      <td>0.915837</td>\n",
              "      <td>0.023016</td>\n",
              "      <td>1</td>\n",
              "      <td>0.929648</td>\n",
              "      <td>0.929648</td>\n",
              "      <td>0.939698</td>\n",
              "      <td>0.939698</td>\n",
              "      <td>0.915</td>\n",
              "      <td>0.930739</td>\n",
              "      <td>0.009062</td>\n",
              "    </tr>\n",
              "    <tr>\n",
              "      <th>11</th>\n",
              "      <td>0.016647</td>\n",
              "      <td>0.000963</td>\n",
              "      <td>0.006613</td>\n",
              "      <td>0.001399</td>\n",
              "      <td>1000000.0</td>\n",
              "      <td>0.25</td>\n",
              "      <td>{'mdl__C': 1000000.0, 'mdl__l1_ratio': 0.25}</td>\n",
              "      <td>0.90</td>\n",
              "      <td>0.90</td>\n",
              "      <td>0.92</td>\n",
              "      <td>...</td>\n",
              "      <td>0.915837</td>\n",
              "      <td>0.023016</td>\n",
              "      <td>1</td>\n",
              "      <td>0.929648</td>\n",
              "      <td>0.929648</td>\n",
              "      <td>0.939698</td>\n",
              "      <td>0.939698</td>\n",
              "      <td>0.915</td>\n",
              "      <td>0.930739</td>\n",
              "      <td>0.009062</td>\n",
              "    </tr>\n",
              "    <tr>\n",
              "      <th>12</th>\n",
              "      <td>0.017001</td>\n",
              "      <td>0.001846</td>\n",
              "      <td>0.006108</td>\n",
              "      <td>0.000309</td>\n",
              "      <td>1000000.0</td>\n",
              "      <td>0.5</td>\n",
              "      <td>{'mdl__C': 1000000.0, 'mdl__l1_ratio': 0.5}</td>\n",
              "      <td>0.90</td>\n",
              "      <td>0.90</td>\n",
              "      <td>0.92</td>\n",
              "      <td>...</td>\n",
              "      <td>0.915837</td>\n",
              "      <td>0.023016</td>\n",
              "      <td>1</td>\n",
              "      <td>0.929648</td>\n",
              "      <td>0.929648</td>\n",
              "      <td>0.939698</td>\n",
              "      <td>0.939698</td>\n",
              "      <td>0.915</td>\n",
              "      <td>0.930739</td>\n",
              "      <td>0.009062</td>\n",
              "    </tr>\n",
              "    <tr>\n",
              "      <th>13</th>\n",
              "      <td>0.016466</td>\n",
              "      <td>0.001365</td>\n",
              "      <td>0.005616</td>\n",
              "      <td>0.000210</td>\n",
              "      <td>1000000.0</td>\n",
              "      <td>0.75</td>\n",
              "      <td>{'mdl__C': 1000000.0, 'mdl__l1_ratio': 0.75}</td>\n",
              "      <td>0.90</td>\n",
              "      <td>0.90</td>\n",
              "      <td>0.92</td>\n",
              "      <td>...</td>\n",
              "      <td>0.915837</td>\n",
              "      <td>0.023016</td>\n",
              "      <td>1</td>\n",
              "      <td>0.929648</td>\n",
              "      <td>0.929648</td>\n",
              "      <td>0.939698</td>\n",
              "      <td>0.939698</td>\n",
              "      <td>0.915</td>\n",
              "      <td>0.930739</td>\n",
              "      <td>0.009062</td>\n",
              "    </tr>\n",
              "    <tr>\n",
              "      <th>14</th>\n",
              "      <td>0.016309</td>\n",
              "      <td>0.001041</td>\n",
              "      <td>0.006179</td>\n",
              "      <td>0.000495</td>\n",
              "      <td>1000000.0</td>\n",
              "      <td>1.0</td>\n",
              "      <td>{'mdl__C': 1000000.0, 'mdl__l1_ratio': 1.0}</td>\n",
              "      <td>0.90</td>\n",
              "      <td>0.90</td>\n",
              "      <td>0.92</td>\n",
              "      <td>...</td>\n",
              "      <td>0.915837</td>\n",
              "      <td>0.023016</td>\n",
              "      <td>1</td>\n",
              "      <td>0.929648</td>\n",
              "      <td>0.929648</td>\n",
              "      <td>0.939698</td>\n",
              "      <td>0.939698</td>\n",
              "      <td>0.915</td>\n",
              "      <td>0.930739</td>\n",
              "      <td>0.009062</td>\n",
              "    </tr>\n",
              "  </tbody>\n",
              "</table>\n",
              "<p>15 rows × 22 columns</p>\n",
              "</div>\n",
              "      <button class=\"colab-df-convert\" onclick=\"convertToInteractive('df-bba56a8a-b42c-4c99-b0a4-a6ce4d806900')\"\n",
              "              title=\"Convert this dataframe to an interactive table.\"\n",
              "              style=\"display:none;\">\n",
              "        \n",
              "  <svg xmlns=\"http://www.w3.org/2000/svg\" height=\"24px\"viewBox=\"0 0 24 24\"\n",
              "       width=\"24px\">\n",
              "    <path d=\"M0 0h24v24H0V0z\" fill=\"none\"/>\n",
              "    <path d=\"M18.56 5.44l.94 2.06.94-2.06 2.06-.94-2.06-.94-.94-2.06-.94 2.06-2.06.94zm-11 1L8.5 8.5l.94-2.06 2.06-.94-2.06-.94L8.5 2.5l-.94 2.06-2.06.94zm10 10l.94 2.06.94-2.06 2.06-.94-2.06-.94-.94-2.06-.94 2.06-2.06.94z\"/><path d=\"M17.41 7.96l-1.37-1.37c-.4-.4-.92-.59-1.43-.59-.52 0-1.04.2-1.43.59L10.3 9.45l-7.72 7.72c-.78.78-.78 2.05 0 2.83L4 21.41c.39.39.9.59 1.41.59.51 0 1.02-.2 1.41-.59l7.78-7.78 2.81-2.81c.8-.78.8-2.07 0-2.86zM5.41 20L4 18.59l7.72-7.72 1.47 1.35L5.41 20z\"/>\n",
              "  </svg>\n",
              "      </button>\n",
              "      \n",
              "  <style>\n",
              "    .colab-df-container {\n",
              "      display:flex;\n",
              "      flex-wrap:wrap;\n",
              "      gap: 12px;\n",
              "    }\n",
              "\n",
              "    .colab-df-convert {\n",
              "      background-color: #E8F0FE;\n",
              "      border: none;\n",
              "      border-radius: 50%;\n",
              "      cursor: pointer;\n",
              "      display: none;\n",
              "      fill: #1967D2;\n",
              "      height: 32px;\n",
              "      padding: 0 0 0 0;\n",
              "      width: 32px;\n",
              "    }\n",
              "\n",
              "    .colab-df-convert:hover {\n",
              "      background-color: #E2EBFA;\n",
              "      box-shadow: 0px 1px 2px rgba(60, 64, 67, 0.3), 0px 1px 3px 1px rgba(60, 64, 67, 0.15);\n",
              "      fill: #174EA6;\n",
              "    }\n",
              "\n",
              "    [theme=dark] .colab-df-convert {\n",
              "      background-color: #3B4455;\n",
              "      fill: #D2E3FC;\n",
              "    }\n",
              "\n",
              "    [theme=dark] .colab-df-convert:hover {\n",
              "      background-color: #434B5C;\n",
              "      box-shadow: 0px 1px 3px 1px rgba(0, 0, 0, 0.15);\n",
              "      filter: drop-shadow(0px 1px 2px rgba(0, 0, 0, 0.3));\n",
              "      fill: #FFFFFF;\n",
              "    }\n",
              "  </style>\n",
              "\n",
              "      <script>\n",
              "        const buttonEl =\n",
              "          document.querySelector('#df-bba56a8a-b42c-4c99-b0a4-a6ce4d806900 button.colab-df-convert');\n",
              "        buttonEl.style.display =\n",
              "          google.colab.kernel.accessAllowed ? 'block' : 'none';\n",
              "\n",
              "        async function convertToInteractive(key) {\n",
              "          const element = document.querySelector('#df-bba56a8a-b42c-4c99-b0a4-a6ce4d806900');\n",
              "          const dataTable =\n",
              "            await google.colab.kernel.invokeFunction('convertToInteractive',\n",
              "                                                     [key], {});\n",
              "          if (!dataTable) return;\n",
              "\n",
              "          const docLinkHtml = 'Like what you see? Visit the ' +\n",
              "            '<a target=\"_blank\" href=https://colab.research.google.com/notebooks/data_table.ipynb>data table notebook</a>'\n",
              "            + ' to learn more about interactive tables.';\n",
              "          element.innerHTML = '';\n",
              "          dataTable['output_type'] = 'display_data';\n",
              "          await google.colab.output.renderOutput(dataTable, element);\n",
              "          const docLink = document.createElement('div');\n",
              "          docLink.innerHTML = docLinkHtml;\n",
              "          element.appendChild(docLink);\n",
              "        }\n",
              "      </script>\n",
              "    </div>\n",
              "  </div>\n",
              "  "
            ]
          },
          "metadata": {},
          "execution_count": 43
        }
      ],
      "source": [
        "pd.DataFrame(grid_search.cv_results_)"
      ]
    },
    {
      "cell_type": "markdown",
      "id": "289be208-bf90-4699-951e-b09a0289aa9d",
      "metadata": {
        "id": "289be208-bf90-4699-951e-b09a0289aa9d"
      },
      "source": [
        "## Best Model\n",
        "\n",
        "The final fit here is already present in the generated model due to the way we set our parameters in the grid search. If we want to look at the performance, we can do so. Here is a non-helpful description of the best model:"
      ]
    },
    {
      "cell_type": "code",
      "execution_count": 44,
      "id": "9a0c404f-514c-4f2c-98c9-506ca8ca1c46",
      "metadata": {
        "id": "9a0c404f-514c-4f2c-98c9-506ca8ca1c46",
        "colab": {
          "base_uri": "https://localhost:8080/"
        },
        "outputId": "c25b38f0-d93b-4cde-a0d7-22bb8351e7ad"
      },
      "outputs": [
        {
          "output_type": "execute_result",
          "data": {
            "text/plain": [
              "Pipeline(steps=[('preproc',\n",
              "                 ColumnTransformer(remainder='passthrough',\n",
              "                                   transformers=[('cat_pipe',\n",
              "                                                  Pipeline(steps=[('cat_impute',\n",
              "                                                                   SimpleImputer(strategy='most_frequent')),\n",
              "                                                                  ('onehot_cat',\n",
              "                                                                   OneHotEncoder(drop='if_binary'))]),\n",
              "                                                  <sklearn.compose._column_transformer.make_column_selector object at 0x7f0d82a762d0>),\n",
              "                                                 ('num_pipe',\n",
              "                                                  Pipeline(steps=[('impute_num',\n",
              "                                                                   SimpleImputer()),\n",
              "                                                                  ('scale_num',\n",
              "                                                                   StandardScaler())]),\n",
              "                                                  <sklearn.compose._column_transformer.make_column_selector object at 0x7f0d829ad250>)])),\n",
              "                ('mdl',\n",
              "                 LogisticRegression(C=316.22776601683796, l1_ratio=0.0,\n",
              "                                    penalty='elasticnet', solver='saga',\n",
              "                                    tol=0.01))])"
            ]
          },
          "metadata": {},
          "execution_count": 44
        }
      ],
      "source": [
        "grid_search.best_estimator_"
      ]
    },
    {
      "cell_type": "markdown",
      "id": "3feb06cf-bf30-4383-9449-4153c0fa996e",
      "metadata": {
        "id": "3feb06cf-bf30-4383-9449-4153c0fa996e"
      },
      "source": [
        "## Variable importance\n",
        "\n",
        "Now we assess the importance in the selected model to reveal any potential insights."
      ]
    },
    {
      "cell_type": "code",
      "execution_count": 45,
      "id": "45f8b024-9842-41e3-bbbb-2642cd4af47a",
      "metadata": {
        "id": "45f8b024-9842-41e3-bbbb-2642cd4af47a",
        "colab": {
          "base_uri": "https://localhost:8080/"
        },
        "outputId": "6e556681-6e44-4ea7-df3d-886226d677b4"
      },
      "outputs": [
        {
          "output_type": "execute_result",
          "data": {
            "text/plain": [
              "array(['female', 'male'], dtype=object)"
            ]
          },
          "metadata": {},
          "execution_count": 45
        }
      ],
      "source": [
        "grid_search.classes_"
      ]
    },
    {
      "cell_type": "code",
      "execution_count": 46,
      "id": "e1832990-1f9d-46ee-9cf1-3c1288f7c47a",
      "metadata": {
        "id": "e1832990-1f9d-46ee-9cf1-3c1288f7c47a",
        "colab": {
          "base_uri": "https://localhost:8080/"
        },
        "outputId": "f7446ea4-8d65-4416-b034-d8715402ac4c"
      },
      "outputs": [
        {
          "output_type": "execute_result",
          "data": {
            "text/plain": [
              "array([ 3.63357355, -2.43379898, -1.53151457, -0.39892612,  0.36667416,\n",
              "       -0.29948805,  2.65337791,  3.11410319, -0.1109383 ,  4.00929838,\n",
              "        0.15783313])"
            ]
          },
          "metadata": {},
          "execution_count": 46
        }
      ],
      "source": [
        "vip = grid_search.best_estimator_['mdl'].coef_[0]\n",
        "vip"
      ]
    },
    {
      "cell_type": "code",
      "execution_count": 47,
      "id": "7ebdc166-bdb7-4863-b46f-165f1aec7a7d",
      "metadata": {
        "id": "7ebdc166-bdb7-4863-b46f-165f1aec7a7d",
        "colab": {
          "base_uri": "https://localhost:8080/",
          "height": 335
        },
        "outputId": "de370fc6-2564-4322-afba-7711f994f80a"
      },
      "outputs": [
        {
          "output_type": "stream",
          "name": "stderr",
          "text": [
            "/usr/local/lib/python3.7/dist-packages/sklearn/utils/deprecation.py:87: FutureWarning: Function get_feature_names is deprecated; get_feature_names is deprecated in 1.0 and will be removed in 1.2. Please use get_feature_names_out instead.\n",
            "  warnings.warn(msg, category=FutureWarning)\n"
          ]
        },
        {
          "output_type": "display_data",
          "data": {
            "text/plain": [
              "<Figure size 432x288 with 1 Axes>"
            ],
            "image/png": "[encoded data removed]"
          },
          "metadata": {
            "needs_background": "light"
          }
        }
      ],
      "source": [
        "#get names in correct preproc order\n",
        "cat_names = grid_search.best_estimator_.named_steps['preproc'].transformers_[0][1].named_steps['onehot_cat'].get_feature_names()\n",
        "num_names = grid_search.best_estimator_.named_steps['preproc'].transformers_[1][2]\n",
        "\n",
        "#create df with vip info\n",
        "coef_info = pd.DataFrame({'feat_names':np.hstack([cat_names, num_names]), 'vip': vip})\n",
        "\n",
        "#get sign and magnitude information\n",
        "coef_info = coef_info.assign(coef_mag = abs(coef_info['vip']),\n",
        "                             coef_sign = np.sign(coef_info['vip']))\n",
        "\n",
        "#sort and plot\n",
        "coef_info = coef_info.set_index('feat_names').sort_values(by='coef_mag', ascending=False)\n",
        "sns.barplot(y=coef_info.index, x='coef_mag', hue='coef_sign', data=coef_info, orient='h', dodge=False);"
      ]
    },
    {
      "cell_type": "markdown",
      "id": "aa95eb91-77ec-4d33-a039-b2f9f95097fb",
      "metadata": {
        "id": "aa95eb91-77ec-4d33-a039-b2f9f95097fb"
      },
      "source": [
        "## Performance Metrics on Test Data\n",
        "\n",
        "\n",
        "Here, we can see the performance of the model, which is pretty nice! We can also look into different scores specifically for more insight into the performance."
      ]
    },
    {
      "cell_type": "code",
      "execution_count": 48,
      "id": "19f6f347-e01c-496a-ac3a-7e603361997f",
      "metadata": {
        "tags": [],
        "id": "19f6f347-e01c-496a-ac3a-7e603361997f",
        "colab": {
          "base_uri": "https://localhost:8080/"
        },
        "outputId": "4f60bb74-b933-42be-9908-db28d6ac98de"
      },
      "outputs": [
        {
          "output_type": "stream",
          "name": "stdout",
          "text": [
            "              precision    recall  f1-score   support\n",
            "\n",
            "      female       0.89      0.93      0.91        42\n",
            "        male       0.93      0.88      0.90        42\n",
            "\n",
            "    accuracy                           0.90        84\n",
            "   macro avg       0.91      0.90      0.90        84\n",
            "weighted avg       0.91      0.90      0.90        84\n",
            "\n"
          ]
        }
      ],
      "source": [
        "print(classification_report(y_test, grid_search.best_estimator_.predict(X_test)))"
      ]
    },
    {
      "cell_type": "code",
      "execution_count": 49,
      "id": "594638a2-fe7e-4295-ac53-edca4db92565",
      "metadata": {
        "id": "594638a2-fe7e-4295-ac53-edca4db92565",
        "colab": {
          "base_uri": "https://localhost:8080/",
          "height": 279
        },
        "outputId": "3980786d-9c85-402b-8ffb-7d7cc991f82d"
      },
      "outputs": [
        {
          "output_type": "display_data",
          "data": {
            "text/plain": [
              "<Figure size 432x288 with 2 Axes>"
            ],
            "image/png": "[encoded data removed]"
          },
          "metadata": {
            "needs_background": "light"
          }
        }
      ],
      "source": [
        "cm = confusion_matrix(y_test, grid_search.best_estimator_.predict(X_test))\n",
        "disp = ConfusionMatrixDisplay(confusion_matrix=cm,\n",
        "                               display_labels=grid_search.classes_)\n",
        "disp.plot()\n",
        "\n",
        "plt.show()"
      ]
    },
    {
      "cell_type": "markdown",
      "id": "8aa24577-b182-4b54-a539-f498f93db4dc",
      "metadata": {
        "id": "8aa24577-b182-4b54-a539-f498f93db4dc"
      },
      "source": [
        "## Try it yourself!\n",
        "\n",
        "Now that we've seen the power of pipelines in sklearn, let's now try implementing our own pipelines.\n",
        "\n",
        "Try implementing a pipeline where we use median imputation for numeric columns instead of mean imputation, as well as the standard scaler. Implement the same imputers and encoders for categorical variables."
      ]
    },
    {
      "cell_type": "code",
      "execution_count": 51,
      "id": "05e5894f-4f8c-4f42-9b3d-63621cf18f4c",
      "metadata": {
        "id": "05e5894f-4f8c-4f42-9b3d-63621cf18f4c",
        "colab": {
          "base_uri": "https://localhost:8080/",
          "height": 335
        },
        "outputId": "61b6e6a1-11ee-4e25-d8c5-c10d580e7c7b"
      },
      "outputs": [
        {
          "output_type": "stream",
          "name": "stderr",
          "text": [
            "/usr/local/lib/python3.7/dist-packages/sklearn/utils/deprecation.py:87: FutureWarning: Function get_feature_names is deprecated; get_feature_names is deprecated in 1.0 and will be removed in 1.2. Please use get_feature_names_out instead.\n",
            "  warnings.warn(msg, category=FutureWarning)\n"
          ]
        },
        {
          "output_type": "display_data",
          "data": {
            "text/plain": [
              "<Figure size 432x288 with 1 Axes>"
            ],
            "image/png": "[encoded data removed]"
          },
          "metadata": {
            "needs_background": "light"
          }
        }
      ],
      "source": [
        "#get names in correct preproc order\n",
        "cat_names = grid_search.best_estimator_.named_steps['preproc'].transformers_[0][1].named_steps['onehot_cat'].get_feature_names()\n",
        "num_names = grid_search.best_estimator_.named_steps['preproc'].transformers_[1][2]\n",
        "\n",
        "#create df with vip info\n",
        "coef_info = pd.DataFrame({'feat_names':np.hstack([cat_names, num_names]), 'vip': vip})\n",
        "\n",
        "#get sign and magnitude information\n",
        "coef_info = coef_info.assign(coef_mag = abs(coef_info['vip']),\n",
        "                             coef_sign = np.sign(coef_info['vip']))\n",
        "\n",
        "#sort and plot\n",
        "coef_info = coef_info.set_index('feat_names').sort_values(by='coef_mag', ascending=False)\n",
        "sns.barplot(y=coef_info.index, x='coef_mag', hue='coef_sign', data=coef_info, orient='h', dodge=False);"
      ]
    },
    {
      "cell_type": "markdown",
      "id": "632436b2-0167-4874-b129-28d83e45b0af",
      "metadata": {
        "id": "632436b2-0167-4874-b129-28d83e45b0af"
      },
      "source": [
        "With this new pipeline, now train a Random Forest model. Refer to the documentation for the parameters for the random forest classifier here: https://scikit-learn.org/stable/modules/generated/sklearn.ensemble.RandomForestClassifier.html"
      ]
    },
    {
      "cell_type": "code",
      "execution_count": null,
      "id": "c9101ce8-4fbb-4058-b147-67919ff46f6d",
      "metadata": {
        "id": "c9101ce8-4fbb-4058-b147-67919ff46f6d"
      },
      "outputs": [],
      "source": [
        "#generate the whole modeling pipeline with preprocessing\n",
        "pipe = Pipeline(steps=[('preproc', preproc),\n",
        "                       ('mdl', # your code here)])\n",
        "\n",
        "#visualization for steps\n",
        "with config_context(display='diagram'):\n",
        "    display(pipe)"
      ]
    },
    {
      "cell_type": "markdown",
      "id": "728d169a-0505-40cd-b773-0205cac0f81f",
      "metadata": {
        "id": "728d169a-0505-40cd-b773-0205cac0f81f"
      },
      "source": [
        "Now perform cross validation and modify the n_estimators parameter to values of [100, 200,500] and max_depth parameter to values of [10,15,50] for the random forest classifier for hyperparameter tuning."
      ]
    },
    {
      "cell_type": "code",
      "execution_count": null,
      "id": "370c38c4-a091-43f4-a095-509c8b2b4f9a",
      "metadata": {
        "id": "370c38c4-a091-43f4-a095-509c8b2b4f9a"
      },
      "outputs": [],
      "source": [
        "tuning_grid = {'mdl__# your code here' :,\n",
        "               'mdl__# your code here': }\n",
        "grid_search = GridSearchCV(pipe, param_grid = tuning_grid, cv = 5, return_train_score=True)"
      ]
    },
    {
      "cell_type": "code",
      "execution_count": null,
      "id": "be1cecb5-0aa8-42a7-96d3-1be721acc4d5",
      "metadata": {
        "id": "be1cecb5-0aa8-42a7-96d3-1be721acc4d5"
      },
      "outputs": [],
      "source": [
        "tuning_grid"
      ]
    },
    {
      "cell_type": "code",
      "execution_count": null,
      "id": "bac7bee7-2136-4bcd-b57d-cc4e1f1e39bf",
      "metadata": {
        "id": "bac7bee7-2136-4bcd-b57d-cc4e1f1e39bf"
      },
      "outputs": [],
      "source": [
        "grid_search.fit(X_train, y_train)"
      ]
    },
    {
      "cell_type": "code",
      "execution_count": null,
      "id": "fe4a4c7f-3806-4e8d-a642-34ddd0488755",
      "metadata": {
        "id": "fe4a4c7f-3806-4e8d-a642-34ddd0488755"
      },
      "outputs": [],
      "source": [
        "print(grid_search.best_score_)\n",
        "grid_search.best_params_"
      ]
    },
    {
      "cell_type": "code",
      "execution_count": null,
      "id": "44b01658-ec11-45fa-aaf7-9df5dc3d398e",
      "metadata": {
        "id": "44b01658-ec11-45fa-aaf7-9df5dc3d398e"
      },
      "outputs": [],
      "source": [
        "pd.DataFrame(grid_search.cv_results_)"
      ]
    },
    {
      "cell_type": "code",
      "execution_count": null,
      "id": "c13ddef8-9fe5-48c3-892b-514cae0ff0cb",
      "metadata": {
        "id": "c13ddef8-9fe5-48c3-892b-514cae0ff0cb"
      },
      "outputs": [],
      "source": [
        "grid_search.best_estimator_"
      ]
    },
    {
      "cell_type": "code",
      "execution_count": null,
      "id": "686c502f-7bd9-4bb6-8477-b055767db77d",
      "metadata": {
        "id": "686c502f-7bd9-4bb6-8477-b055767db77d"
      },
      "outputs": [],
      "source": [
        "grid_search.classes_"
      ]
    },
    {
      "cell_type": "markdown",
      "id": "1cdf2bb3-a44f-4eb4-8b74-f78c727b2600",
      "metadata": {
        "id": "1cdf2bb3-a44f-4eb4-8b74-f78c727b2600"
      },
      "source": [
        "Here, note that the process of getting the feature importances is slighly different than that for Logistic regression."
      ]
    },
    {
      "cell_type": "code",
      "execution_count": null,
      "id": "91d03e13-ce53-4396-953b-93b6ee991634",
      "metadata": {
        "id": "91d03e13-ce53-4396-953b-93b6ee991634"
      },
      "outputs": [],
      "source": [
        "vip = grid_search.best_estimator_['mdl'].feature_importances_\n",
        "vip"
      ]
    },
    {
      "cell_type": "code",
      "execution_count": null,
      "id": "f467cf24-1f0a-4967-8552-929843bfa5d3",
      "metadata": {
        "id": "f467cf24-1f0a-4967-8552-929843bfa5d3"
      },
      "outputs": [],
      "source": [
        "#get names in correct preproc order\n",
        "cat_names = grid_search.best_estimator_.named_steps['preproc'].transformers_[0][1].named_steps['onehot_cat'].get_feature_names()\n",
        "num_names = grid_search.best_estimator_.named_steps['preproc'].transformers_[1][2]\n",
        "\n",
        "#create df with vip info\n",
        "coef_info = pd.DataFrame({'feat_names':np.hstack([cat_names, num_names]), 'vip': vip})\n",
        "\n",
        "#get sign and magnitude information\n",
        "coef_info = coef_info.assign(coef_mag = abs(coef_info['vip']),\n",
        "                             coef_sign = np.sign(coef_info['vip']))\n",
        "\n",
        "#sort and plot\n",
        "coef_info = coef_info.set_index('feat_names').sort_values(by='coef_mag', ascending=False)\n",
        "sns.barplot(y=coef_info.index, x='coef_mag', hue='coef_sign', data=coef_info, orient='h', dodge=False);"
      ]
    },
    {
      "cell_type": "code",
      "execution_count": null,
      "id": "c8492e28-8801-49ac-90d8-d23aa654d98b",
      "metadata": {
        "id": "c8492e28-8801-49ac-90d8-d23aa654d98b"
      },
      "outputs": [],
      "source": [
        "print(classification_report(y_test, grid_search.best_estimator_.predict(X_test)))"
      ]
    },
    {
      "cell_type": "code",
      "execution_count": null,
      "id": "9465fbec-8727-41f0-a242-ca804a752948",
      "metadata": {
        "id": "9465fbec-8727-41f0-a242-ca804a752948"
      },
      "outputs": [],
      "source": [
        "cm = confusion_matrix(y_test, grid_search.best_estimator_.predict(X_test))\n",
        "disp = ConfusionMatrixDisplay(confusion_matrix=cm,\n",
        "                               display_labels=grid_search.classes_)\n",
        "disp.plot()\n",
        "\n",
        "plt.show()"
      ]
    },
    {
      "cell_type": "code",
      "execution_count": null,
      "id": "b883d7f1-d90c-4119-9653-fc0d27f90cb1",
      "metadata": {
        "id": "b883d7f1-d90c-4119-9653-fc0d27f90cb1"
      },
      "outputs": [],
      "source": []
    }
  ],
  "metadata": {
    "kernelspec": {
      "display_name": "Python 3 (ipykernel)",
      "language": "python",
      "name": "python3"
    },
    "language_info": {
      "codemirror_mode": {
        "name": "ipython",
        "version": 3
      },
      "file_extension": ".py",
      "mimetype": "text/x-python",
      "name": "python",
      "nbconvert_exporter": "python",
      "pygments_lexer": "ipython3",
      "version": "3.8.8"
    },
    "colab": {
      "name": "sklearn-demo.ipynb",
      "provenance": [],
      "toc_visible": true,
      "include_colab_link": true
    }
  },
  "nbformat": 4,
  "nbformat_minor": 5
}