{
  "nbformat": 4,
  "nbformat_minor": 0,
  "metadata": {
    "colab": {
      "name": "FIFA-WorldCup.ipynb",
      "provenance": [],
      "collapsed_sections": [
        "3a251b12-73f7-4007-8f91-a866b8539ded"
      ],
      "authorship_tag": "ABX9TyO8SVsPFee2+xrZpbNI5CmV",
      "include_colab_link": true
    },
    "kernelspec": {
      "name": "python3",
      "display_name": "Python 3"
    },
    "language_info": {
      "name": "python"
    }
  },
  "cells": [
    {
      "cell_type": "markdown",
      "metadata": {
        "id": "view-in-github",
        "colab_type": "text"
      },
      "source": [
        "<a href=\"https://colab.research.google.com/github/gautamvdblt/vanderbilt-ml/blob/feature%2Fassignment-3/FIFA-WorldCup.ipynb\" target=\"_parent\"><img src=\"https://colab.research.google.com/assets/colab-badge.svg\" alt=\"Open In Colab\"/></a>"
      ]
    },
    {
      "cell_type": "markdown",
      "metadata": {
        "id": "82ba5cb0-b81e-43ea-acfa-e661fff2572c"
      },
      "source": [
        "# **Machine Learning Using Fifa World Cup Data**"
      ]
    },
    {
      "cell_type": "markdown",
      "source": [],
      "metadata": {
        "id": "WaQBPiHWnhS7"
      }
    },
    {
      "cell_type": "markdown",
      "metadata": {
        "id": "3a251b12-73f7-4007-8f91-a866b8539ded"
      },
      "source": [
        "Fifa world cup notebook\n",
        "\n",
        "## Background\n",
        "\n",
        "The FIFA World Cup is the most prestigious football tournament in the world. The championship has been awarded every four years since the start of the tournament in 1930.\n",
        "\n",
        "In this Project, we will use https://www.kaggle.com/datasets/brenda89/fifa-world-cup-2022.\n",
        "\n",
        "\n",
        "## Project Description\n",
        "\n",
        "The FIFA World Cup involves a qualification phase, which takes place over the preceding three years, to determine which teams quality for the tournament. In the tournament, 32 teams, including the host nation, compete for the title at different stadiums in the host country.\n",
        "\n",
        "This dataset provides a complete overview of all international soccer matches played since the 90s. On top of that, the strength of each team is provided by incorporating actual FIFA rankings as well as player strengths based on the EA Sport FIFA video game.\n",
        "\n",
        "## Performance Metric\n",
        "\n",
        "In this project we will try to \n",
        "· Which team has the longest winning streak. Is there any home team advantage?\n"
      ]
    },
    {
      "cell_type": "markdown",
      "source": [],
      "metadata": {
        "id": "2aKfRLnAodSS"
      }
    },
    {
      "cell_type": "markdown",
      "source": [
        "## Load Libraries\n",
        "\n",
        "First, we'll load our standard libraries for loading data, basic exploratory data analsysi (EDA), and machine learning. "
      ],
      "metadata": {
        "id": "iNUF_3ncKcbw"
      }
    },
    {
      "cell_type": "code",
      "execution_count": null,
      "metadata": {
        "id": "5d51761d-af0e-411f-9375-54bcd91a62db"
      },
      "outputs": [],
      "source": [
        "#tables and visualizations\n",
        "import pandas as pd\n",
        "import numpy as np\n",
        "import seaborn as sns\n",
        "import matplotlib.pyplot as plt\n",
        "\n",
        "#machine learning\n",
        "from sklearn.model_selection import train_test_split, GridSearchCV\n",
        "from sklearn.linear_model import LogisticRegression\n",
        "from sklearn.ensemble import RandomForestClassifier\n",
        "from sklearn.pipeline import Pipeline \n",
        "from sklearn.compose import ColumnTransformer, make_column_selector\n",
        "from sklearn.impute import SimpleImputer\n",
        "from sklearn.preprocessing import OneHotEncoder, LabelBinarizer, StandardScaler\n",
        "from sklearn import config_context\n",
        "from sklearn.metrics import classification_report, confusion_matrix, ConfusionMatrixDisplay\n",
        "\n",
        "#machine learning\n"
      ]
    },
    {
      "cell_type": "code",
      "source": [
        "df = pd.read_csv('data_dictionary.csv')\n",
        "df.info()\n",
        "\n"
      ],
      "metadata": {
        "colab": {
          "base_uri": "https://localhost:8080/"
        },
        "id": "ejrkLwhSW_PG",
        "outputId": "030ee1b5-6a21-43cb-fb52-d706eb95ff42"
      },
      "execution_count": null,
      "outputs": [
        {
          "output_type": "stream",
          "name": "stdout",
          "text": [
            "<class 'pandas.core.frame.DataFrame'>\n",
            "RangeIndex: 25733 entries, 0 to 25732\n",
            "Data columns (total 25 columns):\n",
            " #   Column                         Non-Null Count  Dtype  \n",
            "---  ------                         --------------  -----  \n",
            " 0   date                           25733 non-null  object \n",
            " 1   home_team                      25733 non-null  object \n",
            " 2   away_team                      25733 non-null  object \n",
            " 3   home_team_continent            25733 non-null  object \n",
            " 4   away_team_continent            25733 non-null  object \n",
            " 5   home_team_fifa_rank            25733 non-null  int64  \n",
            " 6   away_team_fifa_rank            25733 non-null  int64  \n",
            " 7   home_team_total_fifa_points    25733 non-null  int64  \n",
            " 8   away_team_total_fifa_points    25733 non-null  int64  \n",
            " 9   home_team_score                25733 non-null  int64  \n",
            " 10  away_team_score                25733 non-null  int64  \n",
            " 11  tournament                     25733 non-null  object \n",
            " 12  city                           25733 non-null  object \n",
            " 13  country                        25733 non-null  object \n",
            " 14  neutral_location               25733 non-null  bool   \n",
            " 15  shoot_out                      25733 non-null  object \n",
            " 16  home_team_result               25733 non-null  object \n",
            " 17  home_team_goalkeeper_score     9525 non-null   float64\n",
            " 18  away_team_goalkeeper_score     9203 non-null   float64\n",
            " 19  home_team_mean_defense_score   8855 non-null   float64\n",
            " 20  home_team_mean_offense_score   9792 non-null   float64\n",
            " 21  home_team_mean_midfield_score  9248 non-null   float64\n",
            " 22  away_team_mean_defense_score   8639 non-null   float64\n",
            " 23  away_team_mean_offense_score   9572 non-null   float64\n",
            " 24  away_team_mean_midfield_score  9072 non-null   float64\n",
            "dtypes: bool(1), float64(8), int64(6), object(10)\n",
            "memory usage: 4.7+ MB\n"
          ]
        }
      ]
    },
    {
      "cell_type": "markdown",
      "source": [],
      "metadata": {
        "id": "baD0GBFEowJI"
      }
    }
  ]
}