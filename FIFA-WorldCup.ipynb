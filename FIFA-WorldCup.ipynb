{
  "nbformat": 4,
  "nbformat_minor": 0,
  "metadata": {
    "colab": {
      "name": "FIFA-WorldCup.ipynb",
      "provenance": [],
      "collapsed_sections": [
        "3a251b12-73f7-4007-8f91-a866b8539ded"
      ],
      "toc_visible": true,
      "authorship_tag": "ABX9TyO5RJ6ndhSritcY3sHtymLN",
      "include_colab_link": true
    },
    "kernelspec": {
      "name": "python3",
      "display_name": "Python 3"
    },
    "language_info": {
      "name": "python"
    }
  },
  "cells": [
    {
      "cell_type": "markdown",
      "metadata": {
        "id": "view-in-github",
        "colab_type": "text"
      },
      "source": [
        "<a href=\"https://colab.research.google.com/github/gautamvdblt/vanderbilt-ml/blob/feature%2Fassignment-3/FIFA-WorldCup.ipynb\" target=\"_parent\"><img src=\"https://colab.research.google.com/assets/colab-badge.svg\" alt=\"Open In Colab\"/></a>"
      ]
    },
    {
      "cell_type": "markdown",
      "metadata": {
        "id": "82ba5cb0-b81e-43ea-acfa-e661fff2572c"
      },
      "source": [
        "# **Machine Learning Using Fifa World Cup Data**"
      ]
    },
    {
      "cell_type": "markdown",
      "source": [],
      "metadata": {
        "id": "WaQBPiHWnhS7"
      }
    },
    {
      "cell_type": "markdown",
      "metadata": {
        "id": "3a251b12-73f7-4007-8f91-a866b8539ded"
      },
      "source": [
        "Fifa world cup notebook\n",
        "\n",
        "## Background\n",
        "\n",
        "The FIFA World Cup is the most prestigious football tournament in the world. The championship has been awarded every four years since the start of the tournament in 1930.\n",
        "\n",
        "In this Project, we will use https://www.kaggle.com/datasets/brenda89/fifa-world-cup-2022.\n",
        "\n",
        "\n",
        "## Project Description\n",
        "\n",
        "The FIFA World Cup involves a qualification phase, which takes place over the preceding three years, to determine which teams quality for the tournament. In the tournament, 32 teams, including the host nation, compete for the title at different stadiums in the host country.\n",
        "\n",
        "This dataset provides a complete overview of all international soccer matches played since the 90s. On top of that, the strength of each team is provided by incorporating actual FIFA rankings as well as player strengths based on the EA Sport FIFA video game.\n",
        "\n",
        "## Performance Metric\n",
        "\n",
        "In this project we will try to \n",
        "· Which team has the longest winning streak. Is there any home team advantage?\n"
      ]
    },
    {
      "cell_type": "markdown",
      "source": [],
      "metadata": {
        "id": "2aKfRLnAodSS"
      }
    },
    {
      "cell_type": "markdown",
      "source": [
        "## Load Libraries\n",
        "\n",
        "First, we'll load our standard libraries for loading data, basic exploratory data analsysi (EDA), and machine learning. "
      ],
      "metadata": {
        "id": "iNUF_3ncKcbw"
      }
    },
    {
      "cell_type": "code",
      "execution_count": 2,
      "metadata": {
        "id": "5d51761d-af0e-411f-9375-54bcd91a62db"
      },
      "outputs": [],
      "source": [
        "#tables and visualizations\n",
        "import pandas as pd\n",
        "import numpy as np\n",
        "import seaborn as sns\n",
        "import matplotlib.pyplot as plt\n",
        "\n",
        "#machine learning\n",
        "from sklearn.model_selection import train_test_split, GridSearchCV\n",
        "from sklearn.linear_model import LogisticRegression\n",
        "from sklearn.ensemble import RandomForestClassifier\n",
        "from sklearn.pipeline import Pipeline \n",
        "from sklearn.compose import ColumnTransformer, make_column_selector\n",
        "from sklearn.impute import SimpleImputer\n",
        "from sklearn.preprocessing import OneHotEncoder, LabelBinarizer, StandardScaler\n",
        "from sklearn import config_context\n",
        "from sklearn.metrics import classification_report, confusion_matrix, ConfusionMatrixDisplay\n",
        "\n",
        "#machine learning\n"
      ]
    },
    {
      "cell_type": "code",
      "source": [
        "df = pd.read_csv('data_dictionary.csv')\n",
        "df.tail()\n",
        "\n"
      ],
      "metadata": {
        "colab": {
          "base_uri": "https://localhost:8080/",
          "height": 317
        },
        "id": "ejrkLwhSW_PG",
        "outputId": "956e60c9-7497-4566-bd3c-2f0d4d5c09a7"
      },
      "execution_count": 4,
      "outputs": [
        {
          "output_type": "execute_result",
          "data": {
            "text/plain": [
              "            date       home_team away_team home_team_continent  \\\n",
              "25728  6/14/2022         Moldova   Andorra              Europe   \n",
              "25729  6/14/2022   Liechtenstein    Latvia              Europe   \n",
              "25730  6/14/2022           Chile     Ghana       South America   \n",
              "25731  6/14/2022           Japan   Tunisia                Asia   \n",
              "25732  6/14/2022  Korea Republic     Egypt                Asia   \n",
              "\n",
              "      away_team_continent  home_team_fifa_rank  away_team_fifa_rank  \\\n",
              "25728              Europe                  180                  153   \n",
              "25729              Europe                  192                  135   \n",
              "25730              Africa                   28                   60   \n",
              "25731              Africa                   23                   35   \n",
              "25732              Africa                   29                   32   \n",
              "\n",
              "       home_team_total_fifa_points  away_team_total_fifa_points  \\\n",
              "25728                          932                         1040   \n",
              "25729                          895                         1105   \n",
              "25730                         1526                         1387   \n",
              "25731                         1553                         1499   \n",
              "25732                         1519                         1500   \n",
              "\n",
              "       home_team_score  ...  shoot_out home_team_result  \\\n",
              "25728                2  ...         No              Win   \n",
              "25729                0  ...         No             Lose   \n",
              "25730                0  ...        Yes             Lose   \n",
              "25731                0  ...         No             Lose   \n",
              "25732                4  ...         No              Win   \n",
              "\n",
              "      home_team_goalkeeper_score away_team_goalkeeper_score  \\\n",
              "25728                       65.0                        NaN   \n",
              "25729                        NaN                       65.0   \n",
              "25730                       79.0                       74.0   \n",
              "25731                       73.0                        NaN   \n",
              "25732                       75.0                        NaN   \n",
              "\n",
              "       home_team_mean_defense_score home_team_mean_offense_score  \\\n",
              "25728                           NaN                          NaN   \n",
              "25729                           NaN                          NaN   \n",
              "25730                          75.5                         76.7   \n",
              "25731                          75.2                         75.0   \n",
              "25732                          73.0                         80.0   \n",
              "\n",
              "      home_team_mean_midfield_score  away_team_mean_defense_score  \\\n",
              "25728                           NaN                           NaN   \n",
              "25729                           NaN                           NaN   \n",
              "25730                          78.2                          75.5   \n",
              "25731                          77.5                          70.8   \n",
              "25732                          73.8                           NaN   \n",
              "\n",
              "       away_team_mean_offense_score  away_team_mean_midfield_score  \n",
              "25728                           NaN                            NaN  \n",
              "25729                           NaN                            NaN  \n",
              "25730                          76.0                           78.2  \n",
              "25731                          72.3                           74.0  \n",
              "25732                          79.3                           70.8  \n",
              "\n",
              "[5 rows x 25 columns]"
            ],
            "text/html": [
              "\n",
              "  <div id=\"df-6e3c582d-60c1-42b2-b4dd-bba7fd8de353\">\n",
              "    <div class=\"colab-df-container\">\n",
              "      <div>\n",
              "<style scoped>\n",
              "    .dataframe tbody tr th:only-of-type {\n",
              "        vertical-align: middle;\n",
              "    }\n",
              "\n",
              "    .dataframe tbody tr th {\n",
              "        vertical-align: top;\n",
              "    }\n",
              "\n",
              "    .dataframe thead th {\n",
              "        text-align: right;\n",
              "    }\n",
              "</style>\n",
              "<table border=\"1\" class=\"dataframe\">\n",
              "  <thead>\n",
              "    <tr style=\"text-align: right;\">\n",
              "      <th></th>\n",
              "      <th>date</th>\n",
              "      <th>home_team</th>\n",
              "      <th>away_team</th>\n",
              "      <th>home_team_continent</th>\n",
              "      <th>away_team_continent</th>\n",
              "      <th>home_team_fifa_rank</th>\n",
              "      <th>away_team_fifa_rank</th>\n",
              "      <th>home_team_total_fifa_points</th>\n",
              "      <th>away_team_total_fifa_points</th>\n",
              "      <th>home_team_score</th>\n",
              "      <th>...</th>\n",
              "      <th>shoot_out</th>\n",
              "      <th>home_team_result</th>\n",
              "      <th>home_team_goalkeeper_score</th>\n",
              "      <th>away_team_goalkeeper_score</th>\n",
              "      <th>home_team_mean_defense_score</th>\n",
              "      <th>home_team_mean_offense_score</th>\n",
              "      <th>home_team_mean_midfield_score</th>\n",
              "      <th>away_team_mean_defense_score</th>\n",
              "      <th>away_team_mean_offense_score</th>\n",
              "      <th>away_team_mean_midfield_score</th>\n",
              "    </tr>\n",
              "  </thead>\n",
              "  <tbody>\n",
              "    <tr>\n",
              "      <th>25728</th>\n",
              "      <td>6/14/2022</td>\n",
              "      <td>Moldova</td>\n",
              "      <td>Andorra</td>\n",
              "      <td>Europe</td>\n",
              "      <td>Europe</td>\n",
              "      <td>180</td>\n",
              "      <td>153</td>\n",
              "      <td>932</td>\n",
              "      <td>1040</td>\n",
              "      <td>2</td>\n",
              "      <td>...</td>\n",
              "      <td>No</td>\n",
              "      <td>Win</td>\n",
              "      <td>65.0</td>\n",
              "      <td>NaN</td>\n",
              "      <td>NaN</td>\n",
              "      <td>NaN</td>\n",
              "      <td>NaN</td>\n",
              "      <td>NaN</td>\n",
              "      <td>NaN</td>\n",
              "      <td>NaN</td>\n",
              "    </tr>\n",
              "    <tr>\n",
              "      <th>25729</th>\n",
              "      <td>6/14/2022</td>\n",
              "      <td>Liechtenstein</td>\n",
              "      <td>Latvia</td>\n",
              "      <td>Europe</td>\n",
              "      <td>Europe</td>\n",
              "      <td>192</td>\n",
              "      <td>135</td>\n",
              "      <td>895</td>\n",
              "      <td>1105</td>\n",
              "      <td>0</td>\n",
              "      <td>...</td>\n",
              "      <td>No</td>\n",
              "      <td>Lose</td>\n",
              "      <td>NaN</td>\n",
              "      <td>65.0</td>\n",
              "      <td>NaN</td>\n",
              "      <td>NaN</td>\n",
              "      <td>NaN</td>\n",
              "      <td>NaN</td>\n",
              "      <td>NaN</td>\n",
              "      <td>NaN</td>\n",
              "    </tr>\n",
              "    <tr>\n",
              "      <th>25730</th>\n",
              "      <td>6/14/2022</td>\n",
              "      <td>Chile</td>\n",
              "      <td>Ghana</td>\n",
              "      <td>South America</td>\n",
              "      <td>Africa</td>\n",
              "      <td>28</td>\n",
              "      <td>60</td>\n",
              "      <td>1526</td>\n",
              "      <td>1387</td>\n",
              "      <td>0</td>\n",
              "      <td>...</td>\n",
              "      <td>Yes</td>\n",
              "      <td>Lose</td>\n",
              "      <td>79.0</td>\n",
              "      <td>74.0</td>\n",
              "      <td>75.5</td>\n",
              "      <td>76.7</td>\n",
              "      <td>78.2</td>\n",
              "      <td>75.5</td>\n",
              "      <td>76.0</td>\n",
              "      <td>78.2</td>\n",
              "    </tr>\n",
              "    <tr>\n",
              "      <th>25731</th>\n",
              "      <td>6/14/2022</td>\n",
              "      <td>Japan</td>\n",
              "      <td>Tunisia</td>\n",
              "      <td>Asia</td>\n",
              "      <td>Africa</td>\n",
              "      <td>23</td>\n",
              "      <td>35</td>\n",
              "      <td>1553</td>\n",
              "      <td>1499</td>\n",
              "      <td>0</td>\n",
              "      <td>...</td>\n",
              "      <td>No</td>\n",
              "      <td>Lose</td>\n",
              "      <td>73.0</td>\n",
              "      <td>NaN</td>\n",
              "      <td>75.2</td>\n",
              "      <td>75.0</td>\n",
              "      <td>77.5</td>\n",
              "      <td>70.8</td>\n",
              "      <td>72.3</td>\n",
              "      <td>74.0</td>\n",
              "    </tr>\n",
              "    <tr>\n",
              "      <th>25732</th>\n",
              "      <td>6/14/2022</td>\n",
              "      <td>Korea Republic</td>\n",
              "      <td>Egypt</td>\n",
              "      <td>Asia</td>\n",
              "      <td>Africa</td>\n",
              "      <td>29</td>\n",
              "      <td>32</td>\n",
              "      <td>1519</td>\n",
              "      <td>1500</td>\n",
              "      <td>4</td>\n",
              "      <td>...</td>\n",
              "      <td>No</td>\n",
              "      <td>Win</td>\n",
              "      <td>75.0</td>\n",
              "      <td>NaN</td>\n",
              "      <td>73.0</td>\n",
              "      <td>80.0</td>\n",
              "      <td>73.8</td>\n",
              "      <td>NaN</td>\n",
              "      <td>79.3</td>\n",
              "      <td>70.8</td>\n",
              "    </tr>\n",
              "  </tbody>\n",
              "</table>\n",
              "<p>5 rows × 25 columns</p>\n",
              "</div>\n",
              "      <button class=\"colab-df-convert\" onclick=\"convertToInteractive('df-6e3c582d-60c1-42b2-b4dd-bba7fd8de353')\"\n",
              "              title=\"Convert this dataframe to an interactive table.\"\n",
              "              style=\"display:none;\">\n",
              "        \n",
              "  <svg xmlns=\"http://www.w3.org/2000/svg\" height=\"24px\"viewBox=\"0 0 24 24\"\n",
              "       width=\"24px\">\n",
              "    <path d=\"M0 0h24v24H0V0z\" fill=\"none\"/>\n",
              "    <path d=\"M18.56 5.44l.94 2.06.94-2.06 2.06-.94-2.06-.94-.94-2.06-.94 2.06-2.06.94zm-11 1L8.5 8.5l.94-2.06 2.06-.94-2.06-.94L8.5 2.5l-.94 2.06-2.06.94zm10 10l.94 2.06.94-2.06 2.06-.94-2.06-.94-.94-2.06-.94 2.06-2.06.94z\"/><path d=\"M17.41 7.96l-1.37-1.37c-.4-.4-.92-.59-1.43-.59-.52 0-1.04.2-1.43.59L10.3 9.45l-7.72 7.72c-.78.78-.78 2.05 0 2.83L4 21.41c.39.39.9.59 1.41.59.51 0 1.02-.2 1.41-.59l7.78-7.78 2.81-2.81c.8-.78.8-2.07 0-2.86zM5.41 20L4 18.59l7.72-7.72 1.47 1.35L5.41 20z\"/>\n",
              "  </svg>\n",
              "      </button>\n",
              "      \n",
              "  <style>\n",
              "    .colab-df-container {\n",
              "      display:flex;\n",
              "      flex-wrap:wrap;\n",
              "      gap: 12px;\n",
              "    }\n",
              "\n",
              "    .colab-df-convert {\n",
              "      background-color: #E8F0FE;\n",
              "      border: none;\n",
              "      border-radius: 50%;\n",
              "      cursor: pointer;\n",
              "      display: none;\n",
              "      fill: #1967D2;\n",
              "      height: 32px;\n",
              "      padding: 0 0 0 0;\n",
              "      width: 32px;\n",
              "    }\n",
              "\n",
              "    .colab-df-convert:hover {\n",
              "      background-color: #E2EBFA;\n",
              "      box-shadow: 0px 1px 2px rgba(60, 64, 67, 0.3), 0px 1px 3px 1px rgba(60, 64, 67, 0.15);\n",
              "      fill: #174EA6;\n",
              "    }\n",
              "\n",
              "    [theme=dark] .colab-df-convert {\n",
              "      background-color: #3B4455;\n",
              "      fill: #D2E3FC;\n",
              "    }\n",
              "\n",
              "    [theme=dark] .colab-df-convert:hover {\n",
              "      background-color: #434B5C;\n",
              "      box-shadow: 0px 1px 3px 1px rgba(0, 0, 0, 0.15);\n",
              "      filter: drop-shadow(0px 1px 2px rgba(0, 0, 0, 0.3));\n",
              "      fill: #FFFFFF;\n",
              "    }\n",
              "  </style>\n",
              "\n",
              "      <script>\n",
              "        const buttonEl =\n",
              "          document.querySelector('#df-6e3c582d-60c1-42b2-b4dd-bba7fd8de353 button.colab-df-convert');\n",
              "        buttonEl.style.display =\n",
              "          google.colab.kernel.accessAllowed ? 'block' : 'none';\n",
              "\n",
              "        async function convertToInteractive(key) {\n",
              "          const element = document.querySelector('#df-6e3c582d-60c1-42b2-b4dd-bba7fd8de353');\n",
              "          const dataTable =\n",
              "            await google.colab.kernel.invokeFunction('convertToInteractive',\n",
              "                                                     [key], {});\n",
              "          if (!dataTable) return;\n",
              "\n",
              "          const docLinkHtml = 'Like what you see? Visit the ' +\n",
              "            '<a target=\"_blank\" href=https://colab.research.google.com/notebooks/data_table.ipynb>data table notebook</a>'\n",
              "            + ' to learn more about interactive tables.';\n",
              "          element.innerHTML = '';\n",
              "          dataTable['output_type'] = 'display_data';\n",
              "          await google.colab.output.renderOutput(dataTable, element);\n",
              "          const docLink = document.createElement('div');\n",
              "          docLink.innerHTML = docLinkHtml;\n",
              "          element.appendChild(docLink);\n",
              "        }\n",
              "      </script>\n",
              "    </div>\n",
              "  </div>\n",
              "  "
            ]
          },
          "metadata": {},
          "execution_count": 4
        }
      ]
    },
    {
      "cell_type": "markdown",
      "source": [
        "## EDA\n",
        "\n",
        "First, we'll load our standard libraries for loading data, basic exploratory data analsysi (EDA), and machine learning. "
      ],
      "metadata": {
        "id": "baD0GBFEowJI"
      }
    },
    {
      "cell_type": "markdown",
      "source": [
        "## 1) What are the 10 strongest teams\n",
        "\n",
        "Strongest team is defined by each team is awarded a certain number of points based on wheteher the won or drawn, the importance of the match and the strength of the opposing team. The overall number of points determines the FIFA rank of the team."
      ],
      "metadata": {
        "id": "Yb6xLJ5ADy-o"
      }
    },
    {
      "cell_type": "code",
      "source": [
        "fifa_rank = df[['date', 'home_team', 'away_team', 'home_team_fifa_rank', 'away_team_fifa_rank']]\n",
        "home = fifa_rank[['date', 'home_team','home_team_fifa_rank']].rename(columns = {'home_team': 'team', 'home_team_fifa_rank' : 'rank'})\n",
        "away = fifa_rank[['date', 'away_team','away_team_fifa_rank']].rename(columns = {'away_team': 'team', 'away_team_fifa_rank' : 'rank'})\n",
        "fifa_rank = home.append(away)\n",
        "\n",
        "#select for each country the latest match\n",
        "fifa_rank  = fifa_rank.sort_values(['team', 'date'], ascending=[True, False])\n",
        "fifa_rank['row_number'] = fifa_rank.groupby('team').cumcount()+1\n",
        "fifa_rank_top = fifa_rank[fifa_rank['row_number']==1].drop('row_number',axis=1).nsmallest(10, 'rank')\n",
        "\n",
        "fifa_rank_top"
      ],
      "metadata": {
        "id": "rxG9NsktEbZm",
        "outputId": "79220b9c-a5cd-4f3c-d311-d63e855bd3c0",
        "colab": {
          "base_uri": "https://localhost:8080/",
          "height": 363
        }
      },
      "execution_count": 11,
      "outputs": [
        {
          "output_type": "execute_result",
          "data": {
            "text/plain": [
              "           date       team  rank\n",
              "23337  9/9/2019    Belgium     1\n",
              "22347  9/9/2018     France     1\n",
              "24811  9/9/2021     Brazil     2\n",
              "14471  9/9/2009      Spain     2\n",
              "24810  9/9/2021  Argentina     6\n",
              "23332  9/9/2019    Croatia     7\n",
              "14448  9/9/2009    England     7\n",
              "22349  9/9/2018    Denmark     9\n",
              "14472  9/9/2009        USA    11\n",
              "14461  9/9/2009     Greece    12"
            ],
            "text/html": [
              "\n",
              "  <div id=\"df-495013ff-d4df-4a80-abbb-5336538de2fc\">\n",
              "    <div class=\"colab-df-container\">\n",
              "      <div>\n",
              "<style scoped>\n",
              "    .dataframe tbody tr th:only-of-type {\n",
              "        vertical-align: middle;\n",
              "    }\n",
              "\n",
              "    .dataframe tbody tr th {\n",
              "        vertical-align: top;\n",
              "    }\n",
              "\n",
              "    .dataframe thead th {\n",
              "        text-align: right;\n",
              "    }\n",
              "</style>\n",
              "<table border=\"1\" class=\"dataframe\">\n",
              "  <thead>\n",
              "    <tr style=\"text-align: right;\">\n",
              "      <th></th>\n",
              "      <th>date</th>\n",
              "      <th>team</th>\n",
              "      <th>rank</th>\n",
              "    </tr>\n",
              "  </thead>\n",
              "  <tbody>\n",
              "    <tr>\n",
              "      <th>23337</th>\n",
              "      <td>9/9/2019</td>\n",
              "      <td>Belgium</td>\n",
              "      <td>1</td>\n",
              "    </tr>\n",
              "    <tr>\n",
              "      <th>22347</th>\n",
              "      <td>9/9/2018</td>\n",
              "      <td>France</td>\n",
              "      <td>1</td>\n",
              "    </tr>\n",
              "    <tr>\n",
              "      <th>24811</th>\n",
              "      <td>9/9/2021</td>\n",
              "      <td>Brazil</td>\n",
              "      <td>2</td>\n",
              "    </tr>\n",
              "    <tr>\n",
              "      <th>14471</th>\n",
              "      <td>9/9/2009</td>\n",
              "      <td>Spain</td>\n",
              "      <td>2</td>\n",
              "    </tr>\n",
              "    <tr>\n",
              "      <th>24810</th>\n",
              "      <td>9/9/2021</td>\n",
              "      <td>Argentina</td>\n",
              "      <td>6</td>\n",
              "    </tr>\n",
              "    <tr>\n",
              "      <th>23332</th>\n",
              "      <td>9/9/2019</td>\n",
              "      <td>Croatia</td>\n",
              "      <td>7</td>\n",
              "    </tr>\n",
              "    <tr>\n",
              "      <th>14448</th>\n",
              "      <td>9/9/2009</td>\n",
              "      <td>England</td>\n",
              "      <td>7</td>\n",
              "    </tr>\n",
              "    <tr>\n",
              "      <th>22349</th>\n",
              "      <td>9/9/2018</td>\n",
              "      <td>Denmark</td>\n",
              "      <td>9</td>\n",
              "    </tr>\n",
              "    <tr>\n",
              "      <th>14472</th>\n",
              "      <td>9/9/2009</td>\n",
              "      <td>USA</td>\n",
              "      <td>11</td>\n",
              "    </tr>\n",
              "    <tr>\n",
              "      <th>14461</th>\n",
              "      <td>9/9/2009</td>\n",
              "      <td>Greece</td>\n",
              "      <td>12</td>\n",
              "    </tr>\n",
              "  </tbody>\n",
              "</table>\n",
              "</div>\n",
              "      <button class=\"colab-df-convert\" onclick=\"convertToInteractive('df-495013ff-d4df-4a80-abbb-5336538de2fc')\"\n",
              "              title=\"Convert this dataframe to an interactive table.\"\n",
              "              style=\"display:none;\">\n",
              "        \n",
              "  <svg xmlns=\"http://www.w3.org/2000/svg\" height=\"24px\"viewBox=\"0 0 24 24\"\n",
              "       width=\"24px\">\n",
              "    <path d=\"M0 0h24v24H0V0z\" fill=\"none\"/>\n",
              "    <path d=\"M18.56 5.44l.94 2.06.94-2.06 2.06-.94-2.06-.94-.94-2.06-.94 2.06-2.06.94zm-11 1L8.5 8.5l.94-2.06 2.06-.94-2.06-.94L8.5 2.5l-.94 2.06-2.06.94zm10 10l.94 2.06.94-2.06 2.06-.94-2.06-.94-.94-2.06-.94 2.06-2.06.94z\"/><path d=\"M17.41 7.96l-1.37-1.37c-.4-.4-.92-.59-1.43-.59-.52 0-1.04.2-1.43.59L10.3 9.45l-7.72 7.72c-.78.78-.78 2.05 0 2.83L4 21.41c.39.39.9.59 1.41.59.51 0 1.02-.2 1.41-.59l7.78-7.78 2.81-2.81c.8-.78.8-2.07 0-2.86zM5.41 20L4 18.59l7.72-7.72 1.47 1.35L5.41 20z\"/>\n",
              "  </svg>\n",
              "      </button>\n",
              "      \n",
              "  <style>\n",
              "    .colab-df-container {\n",
              "      display:flex;\n",
              "      flex-wrap:wrap;\n",
              "      gap: 12px;\n",
              "    }\n",
              "\n",
              "    .colab-df-convert {\n",
              "      background-color: #E8F0FE;\n",
              "      border: none;\n",
              "      border-radius: 50%;\n",
              "      cursor: pointer;\n",
              "      display: none;\n",
              "      fill: #1967D2;\n",
              "      height: 32px;\n",
              "      padding: 0 0 0 0;\n",
              "      width: 32px;\n",
              "    }\n",
              "\n",
              "    .colab-df-convert:hover {\n",
              "      background-color: #E2EBFA;\n",
              "      box-shadow: 0px 1px 2px rgba(60, 64, 67, 0.3), 0px 1px 3px 1px rgba(60, 64, 67, 0.15);\n",
              "      fill: #174EA6;\n",
              "    }\n",
              "\n",
              "    [theme=dark] .colab-df-convert {\n",
              "      background-color: #3B4455;\n",
              "      fill: #D2E3FC;\n",
              "    }\n",
              "\n",
              "    [theme=dark] .colab-df-convert:hover {\n",
              "      background-color: #434B5C;\n",
              "      box-shadow: 0px 1px 3px 1px rgba(0, 0, 0, 0.15);\n",
              "      filter: drop-shadow(0px 1px 2px rgba(0, 0, 0, 0.3));\n",
              "      fill: #FFFFFF;\n",
              "    }\n",
              "  </style>\n",
              "\n",
              "      <script>\n",
              "        const buttonEl =\n",
              "          document.querySelector('#df-495013ff-d4df-4a80-abbb-5336538de2fc button.colab-df-convert');\n",
              "        buttonEl.style.display =\n",
              "          google.colab.kernel.accessAllowed ? 'block' : 'none';\n",
              "\n",
              "        async function convertToInteractive(key) {\n",
              "          const element = document.querySelector('#df-495013ff-d4df-4a80-abbb-5336538de2fc');\n",
              "          const dataTable =\n",
              "            await google.colab.kernel.invokeFunction('convertToInteractive',\n",
              "                                                     [key], {});\n",
              "          if (!dataTable) return;\n",
              "\n",
              "          const docLinkHtml = 'Like what you see? Visit the ' +\n",
              "            '<a target=\"_blank\" href=https://colab.research.google.com/notebooks/data_table.ipynb>data table notebook</a>'\n",
              "            + ' to learn more about interactive tables.';\n",
              "          element.innerHTML = '';\n",
              "          dataTable['output_type'] = 'display_data';\n",
              "          await google.colab.output.renderOutput(dataTable, element);\n",
              "          const docLink = document.createElement('div');\n",
              "          docLink.innerHTML = docLinkHtml;\n",
              "          element.appendChild(docLink);\n",
              "        }\n",
              "      </script>\n",
              "    </div>\n",
              "  </div>\n",
              "  "
            ]
          },
          "metadata": {},
          "execution_count": 11
        }
      ]
    },
    {
      "cell_type": "markdown",
      "source": [
        "## 2) Is there any home team advantage in the world cup?\n",
        "\n",
        "First, we'll load our standard libraries for loading data, basic exploratory data analsysi (EDA), and machine learning. "
      ],
      "metadata": {
        "id": "d_E33GWxD0Fq"
      }
    },
    {
      "cell_type": "code",
      "source": [
        "home_team_advantage = df[df['neutral_location']==False]['home_team_result'].value_counts(normalize=True)\n",
        "\n",
        "#plot\n",
        "fig, axes = plt.subplots(1,1,  figsize=(8,8))\n",
        "ax =plt.pie(home_team_advantage  ,labels = ['Win',  'Lose', 'Draw'],  autopct='%.0f%%')\n",
        "plt.title('Home team match result', fontsize = 15)\n",
        "plt.show()"
      ],
      "metadata": {
        "id": "WZD0Xp9OF2AD",
        "outputId": "a3dab069-7736-42d9-ff92-2fad845c8534",
        "colab": {
          "base_uri": "https://localhost:8080/",
          "height": 484
        }
      },
      "execution_count": 7,
      "outputs": [
        {
          "output_type": "display_data",
          "data": {
            "text/plain": [
              "<Figure size 576x576 with 1 Axes>"
            ],
            "image/png": "[encoded data removed]"
          },
          "metadata": {}
        }
      ]
    },
    {
      "cell_type": "markdown",
      "source": [
        "## 3) What team has the strongest offense.\n",
        "\n",
        "It is often said that the most important position in soccer is the striker. Without the striker, the team would score fewer goals which reduces the chances of the team winning the match. What team has the strongest offense? "
      ],
      "metadata": {
        "id": "hlyQ9wYZD1Hg"
      }
    },
    {
      "cell_type": "code",
      "source": [
        "#let's re-shape the data a bit\n",
        "offense = df[['date', 'home_team', 'away_team', 'home_team_mean_offense_score', 'away_team_mean_offense_score']]\n",
        "home = offense [['date', 'home_team','home_team_mean_offense_score']].rename(columns = {'home_team': 'team', 'home_team_mean_offense_score' : 'offense_score'})\n",
        "away = offense [['date', 'away_team','away_team_mean_offense_score']].rename(columns = {'away_team': 'team', 'away_team_mean_offense_score' : 'offense_score'})\n",
        "offense  = home.append(away)"
      ],
      "metadata": {
        "id": "FRq6bLR0H5Ln"
      },
      "execution_count": 14,
      "outputs": []
    },
    {
      "cell_type": "code",
      "source": [
        "\n",
        "#select for each country the latest match\n",
        "offense   = offense .sort_values(['team', 'date'], ascending=[True, False])\n",
        "offense ['row_number'] = offense .groupby('team').cumcount()+1\n",
        "offense_top = offense [offense ['row_number']==1].drop('row_number',axis=1).nlargest(20, 'offense_score')"
      ],
      "metadata": {
        "id": "orNhlywiJ2Yo"
      },
      "execution_count": 15,
      "outputs": []
    },
    {
      "cell_type": "code",
      "source": [
        "#plot the teams with the strongest offense players\n",
        "fig, axes = plt.subplots(1,1,  figsize=(10, 6))\n",
        "ax = sns.barplot(data = offense_top, y = 'team', x = 'offense_score', orientation = 'horizontal', color = \"#66C8D5\")\n",
        "ax.set_title ('Teams with the strongest offense', fontsize = 15)\n",
        "ax.set(xlabel = '', ylabel = '')\n",
        "\n",
        "plt.show()"
      ],
      "metadata": {
        "id": "vQM6Nh5qJ28m",
        "outputId": "4f5d39a2-48c5-4754-c18b-fbbf241601c3",
        "colab": {
          "base_uri": "https://localhost:8080/",
          "height": 392
        }
      },
      "execution_count": 16,
      "outputs": [
        {
          "output_type": "display_data",
          "data": {
            "text/plain": [
              "<Figure size 720x432 with 1 Axes>"
            ],
            "image/png": "[encoded data removed]"
          },
          "metadata": {
            "needs_background": "light"
          }
        }
      ]
    },
    {
      "cell_type": "markdown",
      "source": [
        "## Test-Train Splitting"
      ],
      "metadata": {
        "id": "xU0yg4N5JSlo"
      }
    },
    {
      "cell_type": "markdown",
      "source": [
        "##Feature engineering"
      ],
      "metadata": {
        "id": "wOKQU0eeD1sl"
      }
    },
    {
      "cell_type": "markdown",
      "source": [
        "## Establishing the training pipeline"
      ],
      "metadata": {
        "id": "u0VfdbMeJS2Y"
      }
    },
    {
      "cell_type": "markdown",
      "source": [
        "## Model fitting and evaluation"
      ],
      "metadata": {
        "id": "ubiGDKS0JTHP"
      }
    }
  ]
}